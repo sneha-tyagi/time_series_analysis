{
 "cells": [
  {
   "cell_type": "code",
   "execution_count": 2,
   "id": "67c3adf4",
   "metadata": {},
   "outputs": [],
   "source": [
    "import pandas as pd\n",
    "import numpy as np"
   ]
  },
  {
   "cell_type": "markdown",
   "id": "c999556d",
   "metadata": {},
   "source": [
    "ARIMA -> p,d,q\n",
    "\n",
    "SARIMA -> (p,d,q) (P, D, Q)m\n",
    "\n",
    "> P,D,Q,M are seasonal components' representation\n",
    "\n",
    "\n",
    "1. P : Seasonal Regression\n",
    "2. D : Seasonal Differencing\n",
    "3. Q : Seasonal MA coeff\n",
    "4. m : no. of datapoints per season / seasonal periods\n",
    "\n",
    "> SARIMAX is sarima's implementation in statmodels, where <b>X = Exogeous Regressor Variables are also supported </b>\n",
    "\n",
    "here we're just looking at SARIMA w/o exogenous part rn."
   ]
  },
  {
   "cell_type": "code",
   "execution_count": 27,
   "id": "bf886f96",
   "metadata": {},
   "outputs": [],
   "source": [
    "import warnings\n",
    "warnings.filterwarnings('ignore')"
   ]
  },
  {
   "cell_type": "code",
   "execution_count": 4,
   "id": "9c5663a2",
   "metadata": {},
   "outputs": [],
   "source": [
    "# importing specific forecasting tools for sarima\n",
    "\n",
    "from statsmodels.tsa.statespace.sarimax import SARIMAX"
   ]
  },
  {
   "cell_type": "code",
   "execution_count": 5,
   "id": "9970cbb5",
   "metadata": {},
   "outputs": [],
   "source": [
    "# to check for SEASONAL component\n",
    "\n",
    "from statsmodels.tsa.seasonal import seasonal_decompose as sd"
   ]
  },
  {
   "cell_type": "code",
   "execution_count": 6,
   "id": "27412471",
   "metadata": {},
   "outputs": [],
   "source": [
    "# to find SARIMA parameters' orders\n",
    "\n",
    "from pmdarima import auto_arima"
   ]
  },
  {
   "cell_type": "code",
   "execution_count": 7,
   "id": "ee01fae2",
   "metadata": {},
   "outputs": [],
   "source": [
    "df = pd.read_csv('Data/co2_mm_mlo.csv')"
   ]
  },
  {
   "cell_type": "code",
   "execution_count": 8,
   "id": "3c2f99c3",
   "metadata": {},
   "outputs": [
    {
     "data": {
      "text/html": [
       "<div>\n",
       "<style scoped>\n",
       "    .dataframe tbody tr th:only-of-type {\n",
       "        vertical-align: middle;\n",
       "    }\n",
       "\n",
       "    .dataframe tbody tr th {\n",
       "        vertical-align: top;\n",
       "    }\n",
       "\n",
       "    .dataframe thead th {\n",
       "        text-align: right;\n",
       "    }\n",
       "</style>\n",
       "<table border=\"1\" class=\"dataframe\">\n",
       "  <thead>\n",
       "    <tr style=\"text-align: right;\">\n",
       "      <th></th>\n",
       "      <th>year</th>\n",
       "      <th>month</th>\n",
       "      <th>decimal_date</th>\n",
       "      <th>average</th>\n",
       "      <th>interpolated</th>\n",
       "    </tr>\n",
       "  </thead>\n",
       "  <tbody>\n",
       "    <tr>\n",
       "      <th>0</th>\n",
       "      <td>1958</td>\n",
       "      <td>3</td>\n",
       "      <td>1958.208</td>\n",
       "      <td>315.71</td>\n",
       "      <td>315.71</td>\n",
       "    </tr>\n",
       "    <tr>\n",
       "      <th>1</th>\n",
       "      <td>1958</td>\n",
       "      <td>4</td>\n",
       "      <td>1958.292</td>\n",
       "      <td>317.45</td>\n",
       "      <td>317.45</td>\n",
       "    </tr>\n",
       "    <tr>\n",
       "      <th>2</th>\n",
       "      <td>1958</td>\n",
       "      <td>5</td>\n",
       "      <td>1958.375</td>\n",
       "      <td>317.50</td>\n",
       "      <td>317.50</td>\n",
       "    </tr>\n",
       "    <tr>\n",
       "      <th>3</th>\n",
       "      <td>1958</td>\n",
       "      <td>6</td>\n",
       "      <td>1958.458</td>\n",
       "      <td>NaN</td>\n",
       "      <td>317.10</td>\n",
       "    </tr>\n",
       "    <tr>\n",
       "      <th>4</th>\n",
       "      <td>1958</td>\n",
       "      <td>7</td>\n",
       "      <td>1958.542</td>\n",
       "      <td>315.86</td>\n",
       "      <td>315.86</td>\n",
       "    </tr>\n",
       "  </tbody>\n",
       "</table>\n",
       "</div>"
      ],
      "text/plain": [
       "   year  month  decimal_date  average  interpolated\n",
       "0  1958      3      1958.208   315.71        315.71\n",
       "1  1958      4      1958.292   317.45        317.45\n",
       "2  1958      5      1958.375   317.50        317.50\n",
       "3  1958      6      1958.458      NaN        317.10\n",
       "4  1958      7      1958.542   315.86        315.86"
      ]
     },
     "execution_count": 8,
     "metadata": {},
     "output_type": "execute_result"
    }
   ],
   "source": [
    "df.head()"
   ]
  },
  {
   "cell_type": "markdown",
   "id": "b34d2335",
   "metadata": {},
   "source": [
    "see this dataset has separate columns for year & month.\n",
    "\n",
    "we'll use these two to create single datetime-col and then make it the index.\n",
    "\n",
    "1. add a new column 'Date' -> dataframe['Date']\n",
    "2. use pd.to_datetime() to get a dtime64 obj\n",
    "3. in the 2(func) pass a dict {year=df['yearcolumn'] , month=df['monthcolumn'], day=df['daycolumn']}"
   ]
  },
  {
   "cell_type": "code",
   "execution_count": 9,
   "id": "cadac675",
   "metadata": {},
   "outputs": [],
   "source": [
    "# making a new column Date\n",
    "\n",
    "#let it be day is 1 \n",
    "\n",
    "df['Date'] = pd.to_datetime({'year' : df['year'],\n",
    "                             'month' : df['month'], \n",
    "                             'day':1})"
   ]
  },
  {
   "cell_type": "code",
   "execution_count": 10,
   "id": "f9d7cc1e",
   "metadata": {},
   "outputs": [
    {
     "data": {
      "text/html": [
       "<div>\n",
       "<style scoped>\n",
       "    .dataframe tbody tr th:only-of-type {\n",
       "        vertical-align: middle;\n",
       "    }\n",
       "\n",
       "    .dataframe tbody tr th {\n",
       "        vertical-align: top;\n",
       "    }\n",
       "\n",
       "    .dataframe thead th {\n",
       "        text-align: right;\n",
       "    }\n",
       "</style>\n",
       "<table border=\"1\" class=\"dataframe\">\n",
       "  <thead>\n",
       "    <tr style=\"text-align: right;\">\n",
       "      <th></th>\n",
       "      <th>year</th>\n",
       "      <th>month</th>\n",
       "      <th>decimal_date</th>\n",
       "      <th>average</th>\n",
       "      <th>interpolated</th>\n",
       "      <th>Date</th>\n",
       "    </tr>\n",
       "  </thead>\n",
       "  <tbody>\n",
       "    <tr>\n",
       "      <th>0</th>\n",
       "      <td>1958</td>\n",
       "      <td>3</td>\n",
       "      <td>1958.208</td>\n",
       "      <td>315.71</td>\n",
       "      <td>315.71</td>\n",
       "      <td>1958-03-01</td>\n",
       "    </tr>\n",
       "    <tr>\n",
       "      <th>1</th>\n",
       "      <td>1958</td>\n",
       "      <td>4</td>\n",
       "      <td>1958.292</td>\n",
       "      <td>317.45</td>\n",
       "      <td>317.45</td>\n",
       "      <td>1958-04-01</td>\n",
       "    </tr>\n",
       "    <tr>\n",
       "      <th>2</th>\n",
       "      <td>1958</td>\n",
       "      <td>5</td>\n",
       "      <td>1958.375</td>\n",
       "      <td>317.50</td>\n",
       "      <td>317.50</td>\n",
       "      <td>1958-05-01</td>\n",
       "    </tr>\n",
       "    <tr>\n",
       "      <th>3</th>\n",
       "      <td>1958</td>\n",
       "      <td>6</td>\n",
       "      <td>1958.458</td>\n",
       "      <td>NaN</td>\n",
       "      <td>317.10</td>\n",
       "      <td>1958-06-01</td>\n",
       "    </tr>\n",
       "    <tr>\n",
       "      <th>4</th>\n",
       "      <td>1958</td>\n",
       "      <td>7</td>\n",
       "      <td>1958.542</td>\n",
       "      <td>315.86</td>\n",
       "      <td>315.86</td>\n",
       "      <td>1958-07-01</td>\n",
       "    </tr>\n",
       "  </tbody>\n",
       "</table>\n",
       "</div>"
      ],
      "text/plain": [
       "   year  month  decimal_date  average  interpolated       Date\n",
       "0  1958      3      1958.208   315.71        315.71 1958-03-01\n",
       "1  1958      4      1958.292   317.45        317.45 1958-04-01\n",
       "2  1958      5      1958.375   317.50        317.50 1958-05-01\n",
       "3  1958      6      1958.458      NaN        317.10 1958-06-01\n",
       "4  1958      7      1958.542   315.86        315.86 1958-07-01"
      ]
     },
     "execution_count": 10,
     "metadata": {},
     "output_type": "execute_result"
    }
   ],
   "source": [
    "df.head()"
   ]
  },
  {
   "cell_type": "code",
   "execution_count": 11,
   "id": "0fcd9582",
   "metadata": {},
   "outputs": [
    {
     "name": "stdout",
     "output_type": "stream",
     "text": [
      "<class 'pandas.core.frame.DataFrame'>\n",
      "RangeIndex: 729 entries, 0 to 728\n",
      "Data columns (total 6 columns):\n",
      "year            729 non-null int64\n",
      "month           729 non-null int64\n",
      "decimal_date    729 non-null float64\n",
      "average         722 non-null float64\n",
      "interpolated    729 non-null float64\n",
      "Date            729 non-null datetime64[ns]\n",
      "dtypes: datetime64[ns](1), float64(3), int64(2)\n",
      "memory usage: 34.2 KB\n"
     ]
    }
   ],
   "source": [
    "df.info()"
   ]
  },
  {
   "cell_type": "code",
   "execution_count": 12,
   "id": "80eacc0b",
   "metadata": {},
   "outputs": [],
   "source": [
    "# see Date column is a datetime64 object"
   ]
  },
  {
   "cell_type": "code",
   "execution_count": 13,
   "id": "cf6a9c46",
   "metadata": {},
   "outputs": [],
   "source": [
    "# to make Date the index\n",
    "\n",
    "df.set_index('Date', inplace=True)"
   ]
  },
  {
   "cell_type": "code",
   "execution_count": 14,
   "id": "02572e6f",
   "metadata": {},
   "outputs": [
    {
     "data": {
      "text/html": [
       "<div>\n",
       "<style scoped>\n",
       "    .dataframe tbody tr th:only-of-type {\n",
       "        vertical-align: middle;\n",
       "    }\n",
       "\n",
       "    .dataframe tbody tr th {\n",
       "        vertical-align: top;\n",
       "    }\n",
       "\n",
       "    .dataframe thead th {\n",
       "        text-align: right;\n",
       "    }\n",
       "</style>\n",
       "<table border=\"1\" class=\"dataframe\">\n",
       "  <thead>\n",
       "    <tr style=\"text-align: right;\">\n",
       "      <th></th>\n",
       "      <th>year</th>\n",
       "      <th>month</th>\n",
       "      <th>decimal_date</th>\n",
       "      <th>average</th>\n",
       "      <th>interpolated</th>\n",
       "    </tr>\n",
       "    <tr>\n",
       "      <th>Date</th>\n",
       "      <th></th>\n",
       "      <th></th>\n",
       "      <th></th>\n",
       "      <th></th>\n",
       "      <th></th>\n",
       "    </tr>\n",
       "  </thead>\n",
       "  <tbody>\n",
       "    <tr>\n",
       "      <th>1958-03-01</th>\n",
       "      <td>1958</td>\n",
       "      <td>3</td>\n",
       "      <td>1958.208</td>\n",
       "      <td>315.71</td>\n",
       "      <td>315.71</td>\n",
       "    </tr>\n",
       "    <tr>\n",
       "      <th>1958-04-01</th>\n",
       "      <td>1958</td>\n",
       "      <td>4</td>\n",
       "      <td>1958.292</td>\n",
       "      <td>317.45</td>\n",
       "      <td>317.45</td>\n",
       "    </tr>\n",
       "    <tr>\n",
       "      <th>1958-05-01</th>\n",
       "      <td>1958</td>\n",
       "      <td>5</td>\n",
       "      <td>1958.375</td>\n",
       "      <td>317.50</td>\n",
       "      <td>317.50</td>\n",
       "    </tr>\n",
       "    <tr>\n",
       "      <th>1958-06-01</th>\n",
       "      <td>1958</td>\n",
       "      <td>6</td>\n",
       "      <td>1958.458</td>\n",
       "      <td>NaN</td>\n",
       "      <td>317.10</td>\n",
       "    </tr>\n",
       "    <tr>\n",
       "      <th>1958-07-01</th>\n",
       "      <td>1958</td>\n",
       "      <td>7</td>\n",
       "      <td>1958.542</td>\n",
       "      <td>315.86</td>\n",
       "      <td>315.86</td>\n",
       "    </tr>\n",
       "  </tbody>\n",
       "</table>\n",
       "</div>"
      ],
      "text/plain": [
       "            year  month  decimal_date  average  interpolated\n",
       "Date                                                        \n",
       "1958-03-01  1958      3      1958.208   315.71        315.71\n",
       "1958-04-01  1958      4      1958.292   317.45        317.45\n",
       "1958-05-01  1958      5      1958.375   317.50        317.50\n",
       "1958-06-01  1958      6      1958.458      NaN        317.10\n",
       "1958-07-01  1958      7      1958.542   315.86        315.86"
      ]
     },
     "execution_count": 14,
     "metadata": {},
     "output_type": "execute_result"
    }
   ],
   "source": [
    "df.head()"
   ]
  },
  {
   "cell_type": "code",
   "execution_count": 15,
   "id": "4b290d81",
   "metadata": {},
   "outputs": [],
   "source": [
    "# to use statsmodels\n",
    "\n",
    "df.index.freq = 'MS'"
   ]
  },
  {
   "cell_type": "markdown",
   "id": "7da7f438",
   "metadata": {},
   "source": [
    "you see that 'average' column has some NaN, so they've interpolated that value in the 'interpolated' column. so we'll use 'interpolated' instead where there's no missing points."
   ]
  },
  {
   "cell_type": "code",
   "execution_count": 16,
   "id": "9eb54f34",
   "metadata": {},
   "outputs": [],
   "source": [
    "from matplotlib.pyplot import rcParams\n",
    "\n",
    "rcParams['figure.figsize'] = (12,5)"
   ]
  },
  {
   "cell_type": "code",
   "execution_count": 17,
   "id": "8eb49469",
   "metadata": {},
   "outputs": [
    {
     "data": {
      "image/png": "[encoded data removed]",
      "text/plain": [
       "<Figure size 864x360 with 1 Axes>"
      ]
     },
     "metadata": {
      "needs_background": "light"
     },
     "output_type": "display_data"
    }
   ],
   "source": [
    "df['interpolated'].plot();"
   ]
  },
  {
   "cell_type": "markdown",
   "id": "18519c09",
   "metadata": {},
   "source": [
    "we've some visible seasonality. To confirm it & GET THE EXACT VALUE OF 'm' OR THE SEASONAL PERIODS, use ETS-Decomposition here."
   ]
  },
  {
   "cell_type": "code",
   "execution_count": 25,
   "id": "3884290e",
   "metadata": {},
   "outputs": [
    {
     "data": {
      "image/png": "[encoded data removed]",
      "text/plain": [
       "<Figure size 864x360 with 4 Axes>"
      ]
     },
     "metadata": {
      "needs_background": "light"
     },
     "output_type": "display_data"
    }
   ],
   "source": [
    "sd(df.loc['1959' : '1961','interpolated'], model='add').plot();"
   ]
  },
  {
   "cell_type": "markdown",
   "id": "7f7e2c38",
   "metadata": {},
   "source": [
    "see that the seasonal definity has an impact so we'll use SARIMA.\n",
    "\n",
    "> i zoomed in to just two years above to get the exact value of 'm' ie the SEASONAL PERIODS\n",
    "\n",
    "as you can see 1 unit = 1 month & hence 1 season = 12 units = 12 months\n",
    "\n",
    "=> m = 12 (as data has monthly units)"
   ]
  },
  {
   "cell_type": "code",
   "execution_count": 30,
   "id": "817e67ea",
   "metadata": {},
   "outputs": [
    {
     "data": {
      "text/html": [
       "<table class=\"simpletable\">\n",
       "<caption>Statespace Model Results</caption>\n",
       "<tr>\n",
       "  <th>Dep. Variable:</th>                  <td>y</td>               <th>  No. Observations:  </th>    <td>729</td>  \n",
       "</tr>\n",
       "<tr>\n",
       "  <th>Model:</th>           <td>SARIMAX(0, 1, 1)x(1, 0, 1, 12)</td> <th>  Log Likelihood     </th> <td>-207.462</td>\n",
       "</tr>\n",
       "<tr>\n",
       "  <th>Date:</th>                   <td>Sat, 21 Aug 2021</td>        <th>  AIC                </th>  <td>424.925</td>\n",
       "</tr>\n",
       "<tr>\n",
       "  <th>Time:</th>                       <td>01:55:14</td>            <th>  BIC                </th>  <td>447.876</td>\n",
       "</tr>\n",
       "<tr>\n",
       "  <th>Sample:</th>                         <td>0</td>               <th>  HQIC               </th>  <td>433.781</td>\n",
       "</tr>\n",
       "<tr>\n",
       "  <th></th>                             <td> - 729</td>             <th>                     </th>     <td> </td>   \n",
       "</tr>\n",
       "<tr>\n",
       "  <th>Covariance Type:</th>               <td>opg</td>              <th>                     </th>     <td> </td>   \n",
       "</tr>\n",
       "</table>\n",
       "<table class=\"simpletable\">\n",
       "<tr>\n",
       "      <td></td>         <th>coef</th>     <th>std err</th>      <th>z</th>      <th>P>|z|</th>  <th>[0.025</th>    <th>0.975]</th>  \n",
       "</tr>\n",
       "<tr>\n",
       "  <th>intercept</th> <td>    0.0008</td> <td>    0.001</td> <td>    1.044</td> <td> 0.296</td> <td>   -0.001</td> <td>    0.002</td>\n",
       "</tr>\n",
       "<tr>\n",
       "  <th>ma.L1</th>     <td>   -0.3803</td> <td>    0.034</td> <td>  -11.130</td> <td> 0.000</td> <td>   -0.447</td> <td>   -0.313</td>\n",
       "</tr>\n",
       "<tr>\n",
       "  <th>ar.S.L12</th>  <td>    0.9995</td> <td>    0.000</td> <td> 3054.231</td> <td> 0.000</td> <td>    0.999</td> <td>    1.000</td>\n",
       "</tr>\n",
       "<tr>\n",
       "  <th>ma.S.L12</th>  <td>   -0.8631</td> <td>    0.022</td> <td>  -39.883</td> <td> 0.000</td> <td>   -0.906</td> <td>   -0.821</td>\n",
       "</tr>\n",
       "<tr>\n",
       "  <th>sigma2</th>    <td>    0.0964</td> <td>    0.005</td> <td>   20.353</td> <td> 0.000</td> <td>    0.087</td> <td>    0.106</td>\n",
       "</tr>\n",
       "</table>\n",
       "<table class=\"simpletable\">\n",
       "<tr>\n",
       "  <th>Ljung-Box (Q):</th>          <td>52.16</td> <th>  Jarque-Bera (JB):  </th> <td>3.68</td> \n",
       "</tr>\n",
       "<tr>\n",
       "  <th>Prob(Q):</th>                <td>0.09</td>  <th>  Prob(JB):          </th> <td>0.16</td> \n",
       "</tr>\n",
       "<tr>\n",
       "  <th>Heteroskedasticity (H):</th> <td>1.11</td>  <th>  Skew:              </th> <td>-0.04</td>\n",
       "</tr>\n",
       "<tr>\n",
       "  <th>Prob(H) (two-sided):</th>    <td>0.40</td>  <th>  Kurtosis:          </th> <td>3.34</td> \n",
       "</tr>\n",
       "</table><br/><br/>Warnings:<br/>[1] Covariance matrix calculated using the outer product of gradients (complex-step)."
      ],
      "text/plain": [
       "<class 'statsmodels.iolib.summary.Summary'>\n",
       "\"\"\"\n",
       "                                 Statespace Model Results                                 \n",
       "==========================================================================================\n",
       "Dep. Variable:                                  y   No. Observations:                  729\n",
       "Model:             SARIMAX(0, 1, 1)x(1, 0, 1, 12)   Log Likelihood                -207.462\n",
       "Date:                            Sat, 21 Aug 2021   AIC                            424.925\n",
       "Time:                                    01:55:14   BIC                            447.876\n",
       "Sample:                                         0   HQIC                           433.781\n",
       "                                            - 729                                         \n",
       "Covariance Type:                              opg                                         \n",
       "==============================================================================\n",
       "                 coef    std err          z      P>|z|      [0.025      0.975]\n",
       "------------------------------------------------------------------------------\n",
       "intercept      0.0008      0.001      1.044      0.296      -0.001       0.002\n",
       "ma.L1         -0.3803      0.034    -11.130      0.000      -0.447      -0.313\n",
       "ar.S.L12       0.9995      0.000   3054.231      0.000       0.999       1.000\n",
       "ma.S.L12      -0.8631      0.022    -39.883      0.000      -0.906      -0.821\n",
       "sigma2         0.0964      0.005     20.353      0.000       0.087       0.106\n",
       "===================================================================================\n",
       "Ljung-Box (Q):                       52.16   Jarque-Bera (JB):                 3.68\n",
       "Prob(Q):                              0.09   Prob(JB):                         0.16\n",
       "Heteroskedasticity (H):               1.11   Skew:                            -0.04\n",
       "Prob(H) (two-sided):                  0.40   Kurtosis:                         3.34\n",
       "===================================================================================\n",
       "\n",
       "Warnings:\n",
       "[1] Covariance matrix calculated using the outer product of gradients (complex-step).\n",
       "\"\"\""
      ]
     },
     "execution_count": 30,
     "metadata": {},
     "output_type": "execute_result"
    }
   ],
   "source": [
    "# finding orders using grid search\n",
    "\n",
    "auto_arima(df['interpolated'], seasonal=True, m=12).summary()"
   ]
  },
  {
   "cell_type": "markdown",
   "id": "ac215b1f",
   "metadata": {},
   "source": [
    "so we've got above is the values of p,d,q,P,D,Q :\n",
    "\n",
    "> SARIMAX(0,1,1) X (1,0,1,12)\n",
    "\n",
    "we had to pass seasonal=True & m=12 in auto_Arima() too."
   ]
  },
  {
   "cell_type": "markdown",
   "id": "2e5fd7b4",
   "metadata": {},
   "source": [
    "## train & test split  and evaluating\n",
    "\n",
    "1 year for testing\n",
    "\n",
    "1. split\n",
    "2. create on train\n",
    "3. fit on train\n",
    "4. predict test\n",
    "5. evaluate actual vs preds"
   ]
  },
  {
   "cell_type": "code",
   "execution_count": 31,
   "id": "13da2724",
   "metadata": {},
   "outputs": [
    {
     "data": {
      "text/plain": [
       "729"
      ]
     },
     "execution_count": 31,
     "metadata": {},
     "output_type": "execute_result"
    }
   ],
   "source": [
    "len(df)"
   ]
  },
  {
   "cell_type": "code",
   "execution_count": 32,
   "id": "0b877ae5",
   "metadata": {},
   "outputs": [
    {
     "data": {
      "text/plain": [
       "717"
      ]
     },
     "execution_count": 32,
     "metadata": {},
     "output_type": "execute_result"
    }
   ],
   "source": [
    "len(df) - 12"
   ]
  },
  {
   "cell_type": "code",
   "execution_count": 33,
   "id": "773b0894",
   "metadata": {},
   "outputs": [],
   "source": [
    "train = df.iloc[: 717]\n",
    "\n",
    "test = df[717 :]"
   ]
  },
  {
   "cell_type": "code",
   "execution_count": 34,
   "id": "7f8e8b58",
   "metadata": {},
   "outputs": [],
   "source": [
    "# create\n",
    "\n",
    "model = SARIMAX(train['interpolated'], order=(0,1,1) , seasonal_order=(1,0,1,12))"
   ]
  },
  {
   "cell_type": "code",
   "execution_count": 35,
   "id": "07aca018",
   "metadata": {},
   "outputs": [],
   "source": [
    "# fit \n",
    "\n",
    "fitted_model = model.fit()"
   ]
  },
  {
   "cell_type": "code",
   "execution_count": 37,
   "id": "c1e3c451",
   "metadata": {},
   "outputs": [
    {
     "data": {
      "text/html": [
       "<table class=\"simpletable\">\n",
       "<caption>Statespace Model Results</caption>\n",
       "<tr>\n",
       "  <th>Dep. Variable:</th>            <td>interpolated</td>          <th>  No. Observations:  </th>    <td>717</td>  \n",
       "</tr>\n",
       "<tr>\n",
       "  <th>Model:</th>           <td>SARIMAX(0, 1, 1)x(1, 0, 1, 12)</td> <th>  Log Likelihood     </th> <td>-205.149</td>\n",
       "</tr>\n",
       "<tr>\n",
       "  <th>Date:</th>                   <td>Sat, 21 Aug 2021</td>        <th>  AIC                </th>  <td>418.298</td>\n",
       "</tr>\n",
       "<tr>\n",
       "  <th>Time:</th>                       <td>02:32:01</td>            <th>  BIC                </th>  <td>436.593</td>\n",
       "</tr>\n",
       "<tr>\n",
       "  <th>Sample:</th>                    <td>03-01-1958</td>           <th>  HQIC               </th>  <td>425.363</td>\n",
       "</tr>\n",
       "<tr>\n",
       "  <th></th>                          <td>- 11-01-2017</td>          <th>                     </th>     <td> </td>   \n",
       "</tr>\n",
       "<tr>\n",
       "  <th>Covariance Type:</th>               <td>opg</td>              <th>                     </th>     <td> </td>   \n",
       "</tr>\n",
       "</table>\n",
       "<table class=\"simpletable\">\n",
       "<tr>\n",
       "      <td></td>        <th>coef</th>     <th>std err</th>      <th>z</th>      <th>P>|z|</th>  <th>[0.025</th>    <th>0.975]</th>  \n",
       "</tr>\n",
       "<tr>\n",
       "  <th>ma.L1</th>    <td>   -0.3702</td> <td>    0.034</td> <td>  -10.796</td> <td> 0.000</td> <td>   -0.437</td> <td>   -0.303</td>\n",
       "</tr>\n",
       "<tr>\n",
       "  <th>ar.S.L12</th> <td>    0.9997</td> <td>    0.000</td> <td> 3173.007</td> <td> 0.000</td> <td>    0.999</td> <td>    1.000</td>\n",
       "</tr>\n",
       "<tr>\n",
       "  <th>ma.S.L12</th> <td>   -0.8648</td> <td>    0.023</td> <td>  -37.719</td> <td> 0.000</td> <td>   -0.910</td> <td>   -0.820</td>\n",
       "</tr>\n",
       "<tr>\n",
       "  <th>sigma2</th>   <td>    0.0959</td> <td>    0.005</td> <td>   20.279</td> <td> 0.000</td> <td>    0.087</td> <td>    0.105</td>\n",
       "</tr>\n",
       "</table>\n",
       "<table class=\"simpletable\">\n",
       "<tr>\n",
       "  <th>Ljung-Box (Q):</th>          <td>52.01</td> <th>  Jarque-Bera (JB):  </th> <td>3.77</td> \n",
       "</tr>\n",
       "<tr>\n",
       "  <th>Prob(Q):</th>                <td>0.10</td>  <th>  Prob(JB):          </th> <td>0.15</td> \n",
       "</tr>\n",
       "<tr>\n",
       "  <th>Heteroskedasticity (H):</th> <td>1.13</td>  <th>  Skew:              </th> <td>-0.02</td>\n",
       "</tr>\n",
       "<tr>\n",
       "  <th>Prob(H) (two-sided):</th>    <td>0.36</td>  <th>  Kurtosis:          </th> <td>3.35</td> \n",
       "</tr>\n",
       "</table><br/><br/>Warnings:<br/>[1] Covariance matrix calculated using the outer product of gradients (complex-step)."
      ],
      "text/plain": [
       "<class 'statsmodels.iolib.summary.Summary'>\n",
       "\"\"\"\n",
       "                                 Statespace Model Results                                 \n",
       "==========================================================================================\n",
       "Dep. Variable:                       interpolated   No. Observations:                  717\n",
       "Model:             SARIMAX(0, 1, 1)x(1, 0, 1, 12)   Log Likelihood                -205.149\n",
       "Date:                            Sat, 21 Aug 2021   AIC                            418.298\n",
       "Time:                                    02:32:01   BIC                            436.593\n",
       "Sample:                                03-01-1958   HQIC                           425.363\n",
       "                                     - 11-01-2017                                         \n",
       "Covariance Type:                              opg                                         \n",
       "==============================================================================\n",
       "                 coef    std err          z      P>|z|      [0.025      0.975]\n",
       "------------------------------------------------------------------------------\n",
       "ma.L1         -0.3702      0.034    -10.796      0.000      -0.437      -0.303\n",
       "ar.S.L12       0.9997      0.000   3173.007      0.000       0.999       1.000\n",
       "ma.S.L12      -0.8648      0.023    -37.719      0.000      -0.910      -0.820\n",
       "sigma2         0.0959      0.005     20.279      0.000       0.087       0.105\n",
       "===================================================================================\n",
       "Ljung-Box (Q):                       52.01   Jarque-Bera (JB):                 3.77\n",
       "Prob(Q):                              0.10   Prob(JB):                         0.15\n",
       "Heteroskedasticity (H):               1.13   Skew:                            -0.02\n",
       "Prob(H) (two-sided):                  0.36   Kurtosis:                         3.35\n",
       "===================================================================================\n",
       "\n",
       "Warnings:\n",
       "[1] Covariance matrix calculated using the outer product of gradients (complex-step).\n",
       "\"\"\""
      ]
     },
     "execution_count": 37,
     "metadata": {},
     "output_type": "execute_result"
    }
   ],
   "source": [
    "fitted_model.summary()\n",
    "\n",
    "# results similar to that of auto_arima()"
   ]
  },
  {
   "cell_type": "code",
   "execution_count": 38,
   "id": "0087625f",
   "metadata": {},
   "outputs": [],
   "source": [
    "# predicting test\n",
    "\n",
    "start = len(train)\n",
    "\n",
    "end = len(train) + len(test) - 1\n",
    "\n",
    "preds = fitted_model.predict(start,end, typ='levels').rename('SARIMA preds')"
   ]
  },
  {
   "cell_type": "code",
   "execution_count": 39,
   "id": "4a977553",
   "metadata": {},
   "outputs": [
    {
     "data": {
      "image/png": "[encoded data removed]",
      "text/plain": [
       "<Figure size 864x360 with 1 Axes>"
      ]
     },
     "metadata": {
      "needs_background": "light"
     },
     "output_type": "display_data"
    }
   ],
   "source": [
    "# plotting test actual vs preds\n",
    "\n",
    "test['interpolated'].plot(legend=True, figsize=(12,5));\n",
    "\n",
    "preds.plot(legend=True);"
   ]
  },
  {
   "cell_type": "markdown",
   "id": "6c561590",
   "metadata": {},
   "source": [
    "it performs pretty good on unseen data.\n",
    "\n",
    "preds are v close to actual values."
   ]
  },
  {
   "cell_type": "code",
   "execution_count": 40,
   "id": "11fb3962",
   "metadata": {},
   "outputs": [],
   "source": [
    "# evaluation metrics\n",
    "\n",
    "from statsmodels.tools.eval_measures import rmse\n",
    "\n",
    "error = rmse( test['interpolated'], preds)"
   ]
  },
  {
   "cell_type": "code",
   "execution_count": 41,
   "id": "4b6a2111",
   "metadata": {},
   "outputs": [
    {
     "data": {
      "text/plain": [
       "0.34614934181389595"
      ]
     },
     "execution_count": 41,
     "metadata": {},
     "output_type": "execute_result"
    }
   ],
   "source": [
    "error"
   ]
  },
  {
   "cell_type": "code",
   "execution_count": 43,
   "id": "00ffab0e",
   "metadata": {},
   "outputs": [
    {
     "data": {
      "text/plain": [
       "408.3333333333333"
      ]
     },
     "execution_count": 43,
     "metadata": {},
     "output_type": "execute_result"
    }
   ],
   "source": [
    "test['interpolated'].mean()"
   ]
  },
  {
   "cell_type": "markdown",
   "id": "2405d38e",
   "metadata": {},
   "source": [
    "error is quite negligible. "
   ]
  },
  {
   "cell_type": "markdown",
   "id": "fe5fef23",
   "metadata": {},
   "source": [
    "## retraining model on full data "
   ]
  },
  {
   "cell_type": "code",
   "execution_count": 44,
   "id": "2edf5e5a",
   "metadata": {},
   "outputs": [],
   "source": [
    "fin_mod = SARIMAX(df['interpolated'], order=(0,1,1), seasonal_order=(1,0,1,12))\n",
    "\n",
    "fit_fin_mod = fin_mod.fit()                  "
   ]
  },
  {
   "cell_type": "code",
   "execution_count": 50,
   "id": "e0a46288",
   "metadata": {},
   "outputs": [
    {
     "data": {
      "text/html": [
       "<div>\n",
       "<style scoped>\n",
       "    .dataframe tbody tr th:only-of-type {\n",
       "        vertical-align: middle;\n",
       "    }\n",
       "\n",
       "    .dataframe tbody tr th {\n",
       "        vertical-align: top;\n",
       "    }\n",
       "\n",
       "    .dataframe thead th {\n",
       "        text-align: right;\n",
       "    }\n",
       "</style>\n",
       "<table border=\"1\" class=\"dataframe\">\n",
       "  <thead>\n",
       "    <tr style=\"text-align: right;\">\n",
       "      <th></th>\n",
       "      <th>year</th>\n",
       "      <th>month</th>\n",
       "      <th>decimal_date</th>\n",
       "      <th>average</th>\n",
       "      <th>interpolated</th>\n",
       "    </tr>\n",
       "    <tr>\n",
       "      <th>Date</th>\n",
       "      <th></th>\n",
       "      <th></th>\n",
       "      <th></th>\n",
       "      <th></th>\n",
       "      <th></th>\n",
       "    </tr>\n",
       "  </thead>\n",
       "  <tbody>\n",
       "    <tr>\n",
       "      <th>2018-07-01</th>\n",
       "      <td>2018</td>\n",
       "      <td>7</td>\n",
       "      <td>2018.542</td>\n",
       "      <td>408.71</td>\n",
       "      <td>408.71</td>\n",
       "    </tr>\n",
       "    <tr>\n",
       "      <th>2018-08-01</th>\n",
       "      <td>2018</td>\n",
       "      <td>8</td>\n",
       "      <td>2018.625</td>\n",
       "      <td>406.99</td>\n",
       "      <td>406.99</td>\n",
       "    </tr>\n",
       "    <tr>\n",
       "      <th>2018-09-01</th>\n",
       "      <td>2018</td>\n",
       "      <td>9</td>\n",
       "      <td>2018.708</td>\n",
       "      <td>405.51</td>\n",
       "      <td>405.51</td>\n",
       "    </tr>\n",
       "    <tr>\n",
       "      <th>2018-10-01</th>\n",
       "      <td>2018</td>\n",
       "      <td>10</td>\n",
       "      <td>2018.792</td>\n",
       "      <td>406.00</td>\n",
       "      <td>406.00</td>\n",
       "    </tr>\n",
       "    <tr>\n",
       "      <th>2018-11-01</th>\n",
       "      <td>2018</td>\n",
       "      <td>11</td>\n",
       "      <td>2018.875</td>\n",
       "      <td>408.02</td>\n",
       "      <td>408.02</td>\n",
       "    </tr>\n",
       "  </tbody>\n",
       "</table>\n",
       "</div>"
      ],
      "text/plain": [
       "            year  month  decimal_date  average  interpolated\n",
       "Date                                                        \n",
       "2018-07-01  2018      7      2018.542   408.71        408.71\n",
       "2018-08-01  2018      8      2018.625   406.99        406.99\n",
       "2018-09-01  2018      9      2018.708   405.51        405.51\n",
       "2018-10-01  2018     10      2018.792   406.00        406.00\n",
       "2018-11-01  2018     11      2018.875   408.02        408.02"
      ]
     },
     "execution_count": 50,
     "metadata": {},
     "output_type": "execute_result"
    }
   ],
   "source": [
    "# forecasting into future\n",
    "\n",
    "# 12 months ahead\n",
    "\n",
    "start = len(df)   #coz last data index is len-1\n",
    "\n",
    "end = start + 11\n",
    "\n",
    "fp = fit_fin_mod.predict(start, end, typ='levels').rename('SARIMA forecasta')\n",
    "\n",
    "df.tail()  # last month nov2018\n",
    "\n",
    "# first pred = dec2018"
   ]
  },
  {
   "cell_type": "code",
   "execution_count": 51,
   "id": "e493746b",
   "metadata": {},
   "outputs": [
    {
     "data": {
      "text/plain": [
       "12"
      ]
     },
     "execution_count": 51,
     "metadata": {},
     "output_type": "execute_result"
    }
   ],
   "source": [
    "len(fp)"
   ]
  },
  {
   "cell_type": "markdown",
   "id": "7914cb5c",
   "metadata": {},
   "source": [
    "plot forecasts vs original data\n",
    "\n",
    "(only way to see how good it is)(idk advanced things rn)"
   ]
  },
  {
   "cell_type": "code",
   "execution_count": 58,
   "id": "a2f7ced9",
   "metadata": {},
   "outputs": [
    {
     "data": {
      "image/png": "[encoded data removed]",
      "text/plain": [
       "<Figure size 864x576 with 1 Axes>"
      ]
     },
     "metadata": {
      "needs_background": "light"
     },
     "output_type": "display_data"
    }
   ],
   "source": [
    "# plotting df vs finalpreds\n",
    "\n",
    "df['interpolated'].plot(xlim = ['1999', '2020'], ylim=[360,420],legend=True, figsize=(12,8));\n",
    "\n",
    "fp.plot(legend=True);"
   ]
  },
  {
   "cell_type": "markdown",
   "id": "37f4e1b4",
   "metadata": {},
   "source": [
    "see the SARIMA model is doing pretty well here. \n",
    "\n",
    "\n",
    "> i zoomed in using xlim , ylim in plot() . first plot basic and then put xlim, ylim acc to xticks & yticks"
   ]
  },
  {
   "cell_type": "code",
   "execution_count": null,
   "id": "571a2c18",
   "metadata": {},
   "outputs": [],
   "source": []
  }
 ],
 "metadata": {
  "kernelspec": {
   "display_name": "Python 3",
   "language": "python",
   "name": "python3"
  },
  "language_info": {
   "codemirror_mode": {
    "name": "ipython",
    "version": 3
   },
   "file_extension": ".py",
   "mimetype": "text/x-python",
   "name": "python",
   "nbconvert_exporter": "python",
   "pygments_lexer": "ipython3",
   "version": "3.7.2"
  }
 },
 "nbformat": 4,
 "nbformat_minor": 5
}
