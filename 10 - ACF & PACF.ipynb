{
 "cells": [
  {
   "cell_type": "code",
   "execution_count": 1,
   "id": "05b7e4a7",
   "metadata": {},
   "outputs": [
    {
     "data": {
      "text/plain": [
       "'C:\\\\Users\\\\Sneha\\\\mywork\\\\tsa_cou_fol'"
      ]
     },
     "execution_count": 1,
     "metadata": {},
     "output_type": "execute_result"
    }
   ],
   "source": [
    "pwd"
   ]
  },
  {
   "cell_type": "code",
   "execution_count": 2,
   "id": "141b4161",
   "metadata": {},
   "outputs": [],
   "source": [
    "import pandas as pd\n",
    "import numpy as np"
   ]
  },
  {
   "cell_type": "code",
   "execution_count": 3,
   "id": "f3166b2a",
   "metadata": {},
   "outputs": [],
   "source": [
    "import statsmodels.api as sm"
   ]
  },
  {
   "cell_type": "code",
   "execution_count": 4,
   "id": "91e98d70",
   "metadata": {},
   "outputs": [],
   "source": [
    "from statsmodels.tsa.stattools import acovf, acf, pacf, pacf_yw, pacf_ols"
   ]
  },
  {
   "cell_type": "code",
   "execution_count": 5,
   "id": "8e1c5b94",
   "metadata": {},
   "outputs": [],
   "source": [
    "#non stationary\n",
    "\n",
    "df1 = pd.read_csv('Data/airline_passengers.csv', index_col='Month', parse_dates=True)\n",
    "\n",
    "df1.index.freq = 'MS'"
   ]
  },
  {
   "cell_type": "code",
   "execution_count": 6,
   "id": "5488cafb",
   "metadata": {},
   "outputs": [
    {
     "data": {
      "text/html": [
       "<div>\n",
       "<style scoped>\n",
       "    .dataframe tbody tr th:only-of-type {\n",
       "        vertical-align: middle;\n",
       "    }\n",
       "\n",
       "    .dataframe tbody tr th {\n",
       "        vertical-align: top;\n",
       "    }\n",
       "\n",
       "    .dataframe thead th {\n",
       "        text-align: right;\n",
       "    }\n",
       "</style>\n",
       "<table border=\"1\" class=\"dataframe\">\n",
       "  <thead>\n",
       "    <tr style=\"text-align: right;\">\n",
       "      <th></th>\n",
       "      <th>Thousands of Passengers</th>\n",
       "    </tr>\n",
       "    <tr>\n",
       "      <th>Month</th>\n",
       "      <th></th>\n",
       "    </tr>\n",
       "  </thead>\n",
       "  <tbody>\n",
       "    <tr>\n",
       "      <th>1949-01-01</th>\n",
       "      <td>112</td>\n",
       "    </tr>\n",
       "    <tr>\n",
       "      <th>1949-02-01</th>\n",
       "      <td>118</td>\n",
       "    </tr>\n",
       "    <tr>\n",
       "      <th>1949-03-01</th>\n",
       "      <td>132</td>\n",
       "    </tr>\n",
       "    <tr>\n",
       "      <th>1949-04-01</th>\n",
       "      <td>129</td>\n",
       "    </tr>\n",
       "    <tr>\n",
       "      <th>1949-05-01</th>\n",
       "      <td>121</td>\n",
       "    </tr>\n",
       "  </tbody>\n",
       "</table>\n",
       "</div>"
      ],
      "text/plain": [
       "            Thousands of Passengers\n",
       "Month                              \n",
       "1949-01-01                      112\n",
       "1949-02-01                      118\n",
       "1949-03-01                      132\n",
       "1949-04-01                      129\n",
       "1949-05-01                      121"
      ]
     },
     "execution_count": 6,
     "metadata": {},
     "output_type": "execute_result"
    }
   ],
   "source": [
    "df1.head()"
   ]
  },
  {
   "cell_type": "code",
   "execution_count": 7,
   "id": "5408a45b",
   "metadata": {},
   "outputs": [
    {
     "data": {
      "text/plain": [
       "DatetimeIndex(['1949-01-01', '1949-02-01', '1949-03-01', '1949-04-01',\n",
       "               '1949-05-01', '1949-06-01', '1949-07-01', '1949-08-01',\n",
       "               '1949-09-01', '1949-10-01',\n",
       "               ...\n",
       "               '1960-03-01', '1960-04-01', '1960-05-01', '1960-06-01',\n",
       "               '1960-07-01', '1960-08-01', '1960-09-01', '1960-10-01',\n",
       "               '1960-11-01', '1960-12-01'],\n",
       "              dtype='datetime64[ns]', name='Month', length=144, freq='MS')"
      ]
     },
     "execution_count": 7,
     "metadata": {},
     "output_type": "execute_result"
    }
   ],
   "source": [
    "df1.index"
   ]
  },
  {
   "cell_type": "code",
   "execution_count": 8,
   "id": "54390701",
   "metadata": {},
   "outputs": [],
   "source": [
    "#stationary\n",
    "\n",
    "df2 = pd.read_csv('Data/DailyTotalFemaleBirths.csv', index_col='Date', parse_dates=True)\n",
    "\n",
    "#daily data\n",
    "df2.index.freq = 'D'"
   ]
  },
  {
   "cell_type": "code",
   "execution_count": 9,
   "id": "5bb4fad7",
   "metadata": {},
   "outputs": [
    {
     "data": {
      "text/html": [
       "<div>\n",
       "<style scoped>\n",
       "    .dataframe tbody tr th:only-of-type {\n",
       "        vertical-align: middle;\n",
       "    }\n",
       "\n",
       "    .dataframe tbody tr th {\n",
       "        vertical-align: top;\n",
       "    }\n",
       "\n",
       "    .dataframe thead th {\n",
       "        text-align: right;\n",
       "    }\n",
       "</style>\n",
       "<table border=\"1\" class=\"dataframe\">\n",
       "  <thead>\n",
       "    <tr style=\"text-align: right;\">\n",
       "      <th></th>\n",
       "      <th>Births</th>\n",
       "    </tr>\n",
       "    <tr>\n",
       "      <th>Date</th>\n",
       "      <th></th>\n",
       "    </tr>\n",
       "  </thead>\n",
       "  <tbody>\n",
       "    <tr>\n",
       "      <th>1959-01-01</th>\n",
       "      <td>35</td>\n",
       "    </tr>\n",
       "    <tr>\n",
       "      <th>1959-01-02</th>\n",
       "      <td>32</td>\n",
       "    </tr>\n",
       "    <tr>\n",
       "      <th>1959-01-03</th>\n",
       "      <td>30</td>\n",
       "    </tr>\n",
       "    <tr>\n",
       "      <th>1959-01-04</th>\n",
       "      <td>31</td>\n",
       "    </tr>\n",
       "    <tr>\n",
       "      <th>1959-01-05</th>\n",
       "      <td>44</td>\n",
       "    </tr>\n",
       "  </tbody>\n",
       "</table>\n",
       "</div>"
      ],
      "text/plain": [
       "            Births\n",
       "Date              \n",
       "1959-01-01      35\n",
       "1959-01-02      32\n",
       "1959-01-03      30\n",
       "1959-01-04      31\n",
       "1959-01-05      44"
      ]
     },
     "execution_count": 9,
     "metadata": {},
     "output_type": "execute_result"
    }
   ],
   "source": [
    "df2.head()"
   ]
  },
  {
   "cell_type": "code",
   "execution_count": 10,
   "id": "d2753214",
   "metadata": {},
   "outputs": [
    {
     "data": {
      "text/plain": [
       "DatetimeIndex(['1959-01-01', '1959-01-02', '1959-01-03', '1959-01-04',\n",
       "               '1959-01-05', '1959-01-06', '1959-01-07', '1959-01-08',\n",
       "               '1959-01-09', '1959-01-10',\n",
       "               ...\n",
       "               '1959-12-22', '1959-12-23', '1959-12-24', '1959-12-25',\n",
       "               '1959-12-26', '1959-12-27', '1959-12-28', '1959-12-29',\n",
       "               '1959-12-30', '1959-12-31'],\n",
       "              dtype='datetime64[ns]', name='Date', length=365, freq='D')"
      ]
     },
     "execution_count": 10,
     "metadata": {},
     "output_type": "execute_result"
    }
   ],
   "source": [
    "df2.index"
   ]
  },
  {
   "cell_type": "code",
   "execution_count": 11,
   "id": "ff2839b4",
   "metadata": {},
   "outputs": [],
   "source": [
    "import warnings\n",
    "\n",
    "warnings.filterwarnings('ignore')\n",
    "\n",
    "# so that we dont get all that red text that are not errors, just warnings"
   ]
  },
  {
   "cell_type": "markdown",
   "id": "9e582eba",
   "metadata": {},
   "source": [
    "## auto correlations\n",
    "\n",
    "pretty statraight formard in statsmodels, directly use the func <b> acf()\n",
    "    \n",
    "    > acf is bound by -1 and 1 (both inclusive)"
   ]
  },
  {
   "cell_type": "code",
   "execution_count": 22,
   "id": "66bf5cb6",
   "metadata": {},
   "outputs": [
    {
     "data": {
      "text/html": [
       "<div>\n",
       "<style scoped>\n",
       "    .dataframe tbody tr th:only-of-type {\n",
       "        vertical-align: middle;\n",
       "    }\n",
       "\n",
       "    .dataframe tbody tr th {\n",
       "        vertical-align: top;\n",
       "    }\n",
       "\n",
       "    .dataframe thead th {\n",
       "        text-align: right;\n",
       "    }\n",
       "</style>\n",
       "<table border=\"1\" class=\"dataframe\">\n",
       "  <thead>\n",
       "    <tr style=\"text-align: right;\">\n",
       "      <th></th>\n",
       "      <th>a</th>\n",
       "    </tr>\n",
       "  </thead>\n",
       "  <tbody>\n",
       "    <tr>\n",
       "      <th>0</th>\n",
       "      <td>13</td>\n",
       "    </tr>\n",
       "    <tr>\n",
       "      <th>1</th>\n",
       "      <td>5</td>\n",
       "    </tr>\n",
       "    <tr>\n",
       "      <th>2</th>\n",
       "      <td>11</td>\n",
       "    </tr>\n",
       "    <tr>\n",
       "      <th>3</th>\n",
       "      <td>12</td>\n",
       "    </tr>\n",
       "    <tr>\n",
       "      <th>4</th>\n",
       "      <td>9</td>\n",
       "    </tr>\n",
       "  </tbody>\n",
       "</table>\n",
       "</div>"
      ],
      "text/plain": [
       "    a\n",
       "0  13\n",
       "1   5\n",
       "2  11\n",
       "3  12\n",
       "4   9"
      ]
     },
     "execution_count": 22,
     "metadata": {},
     "output_type": "execute_result"
    }
   ],
   "source": [
    "# building a basic dataframe to test things out\n",
    "\n",
    "df = pd.DataFrame( {'a' : [13,5,11,12,9] } )\n",
    "\n",
    "df"
   ]
  },
  {
   "cell_type": "code",
   "execution_count": 23,
   "id": "e25bc0a2",
   "metadata": {},
   "outputs": [
    {
     "data": {
      "text/plain": [
       "array([ 1.   , -0.5  , -0.2  ,  0.275, -0.075])"
      ]
     },
     "execution_count": 23,
     "metadata": {},
     "output_type": "execute_result"
    }
   ],
   "source": [
    "# autocorrelation for 'df' in 1-Dimension\n",
    "\n",
    "arr = acf(df['a'])\n",
    "\n",
    "arr"
   ]
  },
  {
   "cell_type": "markdown",
   "id": "488faef9",
   "metadata": {},
   "source": [
    "## PACF \n",
    "\n",
    "1. yw = <b>Yule-Walker method for Partial AC calculation </b><br>\n",
    "<br>\n",
    "pass nlags here that is no. of lags to calculate pacf for. eg: =1 means calc lag-1 only, =2 means calc lag-1 & lag-2\n",
    "<br>\n",
    "* method='mle'  => use BIASED ACF COEFFICIENTS,<i> mle = 'Maximum Likelihood Estimation'</i><br>\n",
    "* method= 'biased' => default <br> <br> <br>\n",
    "\n",
    "2. ols = <b> Ordinary Least Squares Estimate for each lag to calc pacf </b>\n",
    "<br>\n",
    "pass the no. of lags in nlags\n",
    "<br>"
   ]
  },
  {
   "cell_type": "code",
   "execution_count": 27,
   "id": "95ee14be",
   "metadata": {},
   "outputs": [
    {
     "data": {
      "text/plain": [
       "array([ 1.        , -0.5       , -0.6       , -0.38541667, -0.40563273])"
      ]
     },
     "execution_count": 27,
     "metadata": {},
     "output_type": "execute_result"
    }
   ],
   "source": [
    "#method 1.A\n",
    "\n",
    "pacf_yw(df['a'], nlags=4 ,method='mle')\n",
    "\n",
    "# array of pacf values "
   ]
  },
  {
   "cell_type": "code",
   "execution_count": 28,
   "id": "1e3b5ed2",
   "metadata": {},
   "outputs": [
    {
     "data": {
      "text/plain": [
       "array([ 1.        , -0.625     , -1.18803419,  2.03764205,  0.8949589 ])"
      ]
     },
     "execution_count": 28,
     "metadata": {},
     "output_type": "execute_result"
    }
   ],
   "source": [
    "#method 1.B\n",
    "\n",
    "pacf_yw(df['a'], nlags=4 , method='unbiased')"
   ]
  },
  {
   "cell_type": "code",
   "execution_count": 30,
   "id": "a859664d",
   "metadata": {},
   "outputs": [
    {
     "data": {
      "text/plain": [
       "array([ 1.        , -0.49677419, -0.43181818,  0.53082621,  0.25434783])"
      ]
     },
     "execution_count": 30,
     "metadata": {},
     "output_type": "execute_result"
    }
   ],
   "source": [
    "#method 2\n",
    "\n",
    "pacf_ols(df['a'], nlags=4)"
   ]
  },
  {
   "cell_type": "markdown",
   "id": "0a2b2ba1",
   "metadata": {},
   "source": [
    "WHY are there different ways of calculating pacf ?\n",
    "\n",
    "> coz there are diff ways of calculating CORRELATION eg. Pearson-CorrelationCoeff & hence diff methods diff errors and thereby for pacf too \n",
    "\n",
    "<br>\n",
    "<br>\n",
    "For TSA, above 3 functions won't be called.<br>\n",
    "\n",
    ">Instead, you'll be plotting DEFAULT ACF, PACF from Statsmodels"
   ]
  },
  {
   "cell_type": "markdown",
   "id": "a7a0d3b2",
   "metadata": {},
   "source": [
    "## Plotting ACF & PACF"
   ]
  },
  {
   "cell_type": "code",
   "execution_count": 31,
   "id": "f16347c5",
   "metadata": {},
   "outputs": [],
   "source": [
    "from pandas.plotting import lag_plot"
   ]
  },
  {
   "cell_type": "markdown",
   "id": "c63120bc",
   "metadata": {},
   "source": [
    "> lag_plot is useful for plotting a TS wrt a lagged-version of itself"
   ]
  },
  {
   "cell_type": "code",
   "execution_count": 32,
   "id": "020fe770",
   "metadata": {},
   "outputs": [
    {
     "data": {
      "image/png": "[encoded data removed]",
      "text/plain": [
       "<Figure size 432x288 with 1 Axes>"
      ]
     },
     "metadata": {
      "needs_background": "light"
     },
     "output_type": "display_data"
    }
   ],
   "source": [
    "lag_plot(df1['Thousands of Passengers']);"
   ]
  },
  {
   "cell_type": "code",
   "execution_count": null,
   "id": "7de670dd",
   "metadata": {},
   "outputs": [],
   "source": []
  },
  {
   "cell_type": "code",
   "execution_count": 33,
   "id": "26f4131e",
   "metadata": {},
   "outputs": [
    {
     "data": {
      "image/png": "[encoded data removed]",
      "text/plain": [
       "<Figure size 432x288 with 1 Axes>"
      ]
     },
     "metadata": {
      "needs_background": "light"
     },
     "output_type": "display_data"
    }
   ],
   "source": [
    "lag_plot(df2['Births']);"
   ]
  },
  {
   "cell_type": "code",
   "execution_count": null,
   "id": "492ee1af",
   "metadata": {},
   "outputs": [],
   "source": []
  },
  {
   "cell_type": "code",
   "execution_count": 34,
   "id": "adcfb2af",
   "metadata": {},
   "outputs": [],
   "source": [
    "from statsmodels.graphics.tsaplots import plot_acf, plot_pacf"
   ]
  },
  {
   "cell_type": "code",
   "execution_count": 36,
   "id": "f6acc018",
   "metadata": {},
   "outputs": [
    {
     "data": {
      "image/png": "[encoded data removed]",
      "text/plain": [
       "<Figure size 432x288 with 1 Axes>"
      ]
     },
     "metadata": {
      "needs_background": "light"
     },
     "output_type": "display_data"
    }
   ],
   "source": [
    "plot_acf(df1, lags=40);"
   ]
  },
  {
   "cell_type": "code",
   "execution_count": 37,
   "id": "2836d0a1",
   "metadata": {},
   "outputs": [
    {
     "data": {
      "image/png": "[encoded data removed]",
      "text/plain": [
       "<Figure size 432x288 with 1 Axes>"
      ]
     },
     "metadata": {
      "needs_background": "light"
     },
     "output_type": "display_data"
    }
   ],
   "source": [
    "plot_acf(df2, lags=40);\n",
    "\n",
    "# no seasonality"
   ]
  },
  {
   "cell_type": "code",
   "execution_count": 39,
   "id": "b9f24f0c",
   "metadata": {},
   "outputs": [
    {
     "data": {
      "image/png": "[encoded data removed]",
      "text/plain": [
       "<Figure size 432x288 with 1 Axes>"
      ]
     },
     "metadata": {
      "needs_background": "light"
     },
     "output_type": "display_data"
    }
   ],
   "source": [
    "# pacf plots works best with stationary data\n",
    "\n",
    "plot_pacf(df2, lags=40, title='Daily Female Births');"
   ]
  },
  {
   "cell_type": "code",
   "execution_count": 40,
   "id": "745ec97b",
   "metadata": {},
   "outputs": [],
   "source": [
    "# later, read this graphs to decide order for the params of AR, MA parts of ARIMA model"
   ]
  },
  {
   "cell_type": "code",
   "execution_count": 41,
   "id": "e5c38cc4",
   "metadata": {},
   "outputs": [],
   "source": [
    "# though its EASIER TO DO A GRID SEARCH"
   ]
  },
  {
   "cell_type": "code",
   "execution_count": 42,
   "id": "ddf328de",
   "metadata": {},
   "outputs": [],
   "source": [
    "# but we'll see how to identify the no. of terms for AR & MA terms using these plots"
   ]
  },
  {
   "cell_type": "markdown",
   "id": "dc3eaa1d",
   "metadata": {},
   "source": [
    "your takeaway from here : the last two plotting functions only"
   ]
  },
  {
   "cell_type": "code",
   "execution_count": null,
   "id": "7cf8a06b",
   "metadata": {},
   "outputs": [],
   "source": []
  }
 ],
 "metadata": {
  "kernelspec": {
   "display_name": "Python 3",
   "language": "python",
   "name": "python3"
  },
  "language_info": {
   "codemirror_mode": {
    "name": "ipython",
    "version": 3
   },
   "file_extension": ".py",
   "mimetype": "text/x-python",
   "name": "python",
   "nbconvert_exporter": "python",
   "pygments_lexer": "ipython3",
   "version": "3.7.2"
  }
 },
 "nbformat": 4,
 "nbformat_minor": 5
}
