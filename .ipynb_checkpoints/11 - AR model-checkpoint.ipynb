{
 "cells": [
  {
   "cell_type": "code",
   "execution_count": 1,
   "id": "f17ee44d",
   "metadata": {},
   "outputs": [],
   "source": [
    "import pandas as pd\n",
    "import numpy as np"
   ]
  },
  {
   "cell_type": "code",
   "execution_count": 3,
   "id": "e64d1c9f",
   "metadata": {},
   "outputs": [],
   "source": [
    "# forecasting tools\n",
    "\n",
    "from statsmodels.tsa.ar_model import AR, ARResults"
   ]
  },
  {
   "cell_type": "code",
   "execution_count": 17,
   "id": "fe19dcc8",
   "metadata": {},
   "outputs": [
    {
     "name": "stdout",
     "output_type": "stream",
     "text": [
      "            PopEst\n",
      "DATE              \n",
      "2011-01-01  311037\n",
      "2011-02-01  311189\n",
      "2011-03-01  311351\n",
      "2011-04-01  311522\n",
      "2011-05-01  311699\n",
      "January\n",
      "February\n"
     ]
    }
   ],
   "source": [
    "# a us population dataset\n",
    "\n",
    "df = pd.read_csv('Data/uspopulation.csv', index_col='DATE', parse_dates=True)\n",
    "\n",
    "print(df.head())\n",
    "\n",
    "print(df.index[0].month_name())\n",
    "print(df.index[1].month_name())"
   ]
  },
  {
   "cell_type": "code",
   "execution_count": 19,
   "id": "d668c83f",
   "metadata": {},
   "outputs": [
    {
     "name": "stdout",
     "output_type": "stream",
     "text": [
      "None\n"
     ]
    }
   ],
   "source": [
    "print(df.index.freq)"
   ]
  },
  {
   "cell_type": "code",
   "execution_count": 20,
   "id": "65317608",
   "metadata": {},
   "outputs": [],
   "source": [
    "# First things first\n",
    "\n",
    "# put index freq = req \n",
    "\n",
    "# here we've monthly data with start of the month stamps on Day 1 of each month\n",
    "\n",
    "# so freq = 'MS'  => Month Start\n",
    "\n",
    "df.index.freq = 'MS'"
   ]
  },
  {
   "cell_type": "code",
   "execution_count": 21,
   "id": "dc3632f6",
   "metadata": {},
   "outputs": [
    {
     "data": {
      "text/plain": [
       "<MonthBegin>"
      ]
     },
     "execution_count": 21,
     "metadata": {},
     "output_type": "execute_result"
    }
   ],
   "source": [
    "df.index.freq"
   ]
  },
  {
   "cell_type": "code",
   "execution_count": 23,
   "id": "f3778ea3",
   "metadata": {},
   "outputs": [
    {
     "data": {
      "image/png": "[encoded data removed]",
      "text/plain": [
       "<Figure size 864x360 with 1 Axes>"
      ]
     },
     "metadata": {
      "needs_background": "light"
     },
     "output_type": "display_data"
    }
   ],
   "source": [
    "df.plot(figsize=(12,5));"
   ]
  },
  {
   "cell_type": "markdown",
   "id": "3f83a5a9",
   "metadata": {},
   "source": [
    "here, we've a pretty LINEAR TREND and a SLIGHT SEASONALITY but its v had to tell.\n",
    "\n",
    "so AR would work well as you can see the data fits to a straight line model."
   ]
  },
  {
   "cell_type": "code",
   "execution_count": 24,
   "id": "c2ba82b3",
   "metadata": {},
   "outputs": [],
   "source": [
    "# Split data into training and test sets"
   ]
  },
  {
   "cell_type": "code",
   "execution_count": 25,
   "id": "35171c35",
   "metadata": {},
   "outputs": [
    {
     "data": {
      "text/plain": [
       "96"
      ]
     },
     "execution_count": 25,
     "metadata": {},
     "output_type": "execute_result"
    }
   ],
   "source": [
    "# lets use 12 months for testing\n",
    "\n",
    "len(df)"
   ]
  },
  {
   "cell_type": "code",
   "execution_count": 26,
   "id": "3f89b1a1",
   "metadata": {},
   "outputs": [
    {
     "data": {
      "text/plain": [
       "84"
      ]
     },
     "execution_count": 26,
     "metadata": {},
     "output_type": "execute_result"
    }
   ],
   "source": [
    "96-12"
   ]
  },
  {
   "cell_type": "code",
   "execution_count": 30,
   "id": "ca5ce15e",
   "metadata": {},
   "outputs": [],
   "source": [
    "train = df.iloc[ :84]"
   ]
  },
  {
   "cell_type": "code",
   "execution_count": 31,
   "id": "5e843445",
   "metadata": {},
   "outputs": [],
   "source": [
    "test = df.iloc[84 :]"
   ]
  },
  {
   "cell_type": "code",
   "execution_count": 32,
   "id": "29b5e500",
   "metadata": {},
   "outputs": [],
   "source": [
    "import warnings\n",
    "warnings.filterwarnings('ignore')"
   ]
  },
  {
   "cell_type": "markdown",
   "id": "408a2764",
   "metadata": {},
   "source": [
    "lets fit AR(1) model (simplest one)\n",
    "\n",
    "ie look at back at one timestamp in past and predict today"
   ]
  },
  {
   "cell_type": "code",
   "execution_count": 33,
   "id": "0645c19b",
   "metadata": {},
   "outputs": [],
   "source": [
    "# create model for train data column\n",
    "\n",
    "model1 = AR(train['PopEst'])"
   ]
  },
  {
   "cell_type": "markdown",
   "id": "768da8bd",
   "metadata": {},
   "source": [
    ".fit() params :\n",
    "\n",
    "1. maxlag = order of AR to use (here 1)\n",
    "\n",
    "2. method = a way of solving mathematical equations of AR <br>\n",
    "    default : 'cmle' : conditional max likelihood using OLS (ordinary least squares) <br>\n",
    "    'mle' : exact max likelihood\n",
    "    \n",
    " choose different maxlag, method and solver to decrease error.\n",
    " \n",
    " > or do a grid search using for-loops and see which one has least RMS-error"
   ]
  },
  {
   "cell_type": "code",
   "execution_count": 34,
   "id": "9b3de0fc",
   "metadata": {},
   "outputs": [],
   "source": [
    "fit_m1 = model1.fit(maxlag=1)"
   ]
  },
  {
   "cell_type": "code",
   "execution_count": 35,
   "id": "1ad01af1",
   "metadata": {},
   "outputs": [
    {
     "data": {
      "text/plain": [
       "6.410771237032258"
      ]
     },
     "execution_count": 35,
     "metadata": {},
     "output_type": "execute_result"
    }
   ],
   "source": [
    "fit_m1.aic"
   ]
  },
  {
   "cell_type": "code",
   "execution_count": 36,
   "id": "af9a5521",
   "metadata": {},
   "outputs": [
    {
     "data": {
      "text/plain": [
       "1"
      ]
     },
     "execution_count": 36,
     "metadata": {},
     "output_type": "execute_result"
    }
   ],
   "source": [
    "# tells how many lags or order of k in the model, ie maxlag's value\n",
    "\n",
    "fit_m1.k_ar"
   ]
  },
  {
   "cell_type": "code",
   "execution_count": 38,
   "id": "127069c8",
   "metadata": {},
   "outputs": [
    {
     "data": {
      "text/plain": [
       "const        284.913797\n",
       "L1.PopEst      0.999686\n",
       "dtype: float64"
      ]
     },
     "execution_count": 38,
     "metadata": {},
     "output_type": "execute_result"
    }
   ],
   "source": [
    "# it returns const 'c' and lag-coeff-1 'phi1'\n",
    "\n",
    "fit_m1.params"
   ]
  },
  {
   "cell_type": "markdown",
   "id": "5f8d8db6",
   "metadata": {},
   "source": [
    "so fit_m1 has used the above params to build the forecasting equation."
   ]
  },
  {
   "cell_type": "code",
   "execution_count": 43,
   "id": "d07dc35b",
   "metadata": {},
   "outputs": [],
   "source": [
    "#start index\n",
    "\n",
    "start = len(train)"
   ]
  },
  {
   "cell_type": "code",
   "execution_count": 44,
   "id": "8bd4c87c",
   "metadata": {},
   "outputs": [],
   "source": [
    "#end index\n",
    "\n",
    "end = len(train) + len(test) -1"
   ]
  },
  {
   "cell_type": "code",
   "execution_count": 45,
   "id": "c0fb318b",
   "metadata": {},
   "outputs": [
    {
     "data": {
      "text/plain": [
       "84"
      ]
     },
     "execution_count": 45,
     "metadata": {},
     "output_type": "execute_result"
    }
   ],
   "source": [
    "start"
   ]
  },
  {
   "cell_type": "code",
   "execution_count": 46,
   "id": "0805ac1c",
   "metadata": {},
   "outputs": [
    {
     "data": {
      "text/plain": [
       "95"
      ]
     },
     "execution_count": 46,
     "metadata": {},
     "output_type": "execute_result"
    }
   ],
   "source": [
    "end"
   ]
  },
  {
   "cell_type": "code",
   "execution_count": 48,
   "id": "23dbfb9e",
   "metadata": {},
   "outputs": [
    {
     "data": {
      "text/plain": [
       "2018-01-01    326560.403377\n",
       "2018-02-01    326742.749463\n",
       "2018-03-01    326925.038278\n",
       "2018-04-01    327107.269838\n",
       "2018-05-01    327289.444162\n",
       "2018-06-01    327471.561268\n",
       "2018-07-01    327653.621173\n",
       "2018-08-01    327835.623896\n",
       "2018-09-01    328017.569455\n",
       "2018-10-01    328199.457868\n",
       "2018-11-01    328381.289152\n",
       "2018-12-01    328563.063326\n",
       "Freq: MS, dtype: float64"
      ]
     },
     "execution_count": 48,
     "metadata": {},
     "output_type": "execute_result"
    }
   ],
   "source": [
    "# test set predictions\n",
    "\n",
    "fit_m1.predict(start=84, end=95)"
   ]
  },
  {
   "cell_type": "code",
   "execution_count": 49,
   "id": "6dc5a946",
   "metadata": {},
   "outputs": [],
   "source": [
    "# comparing test values and test preds"
   ]
  },
  {
   "cell_type": "code",
   "execution_count": 51,
   "id": "22274bb6",
   "metadata": {},
   "outputs": [],
   "source": [
    "pred1 = fit_m1.predict(start=84, end=95)"
   ]
  },
  {
   "cell_type": "code",
   "execution_count": 52,
   "id": "3f3c0c87",
   "metadata": {},
   "outputs": [],
   "source": [
    "pred1 = pred1.rename('AR(1) PREDS')"
   ]
  },
  {
   "cell_type": "code",
   "execution_count": 53,
   "id": "7198e054",
   "metadata": {},
   "outputs": [
    {
     "data": {
      "text/plain": [
       "2018-01-01    326560.403377\n",
       "2018-02-01    326742.749463\n",
       "2018-03-01    326925.038278\n",
       "2018-04-01    327107.269838\n",
       "2018-05-01    327289.444162\n",
       "2018-06-01    327471.561268\n",
       "2018-07-01    327653.621173\n",
       "2018-08-01    327835.623896\n",
       "2018-09-01    328017.569455\n",
       "2018-10-01    328199.457868\n",
       "2018-11-01    328381.289152\n",
       "2018-12-01    328563.063326\n",
       "Freq: MS, Name: AR(1) PREDS, dtype: float64"
      ]
     },
     "execution_count": 53,
     "metadata": {},
     "output_type": "execute_result"
    }
   ],
   "source": [
    "pred1"
   ]
  },
  {
   "cell_type": "code",
   "execution_count": 56,
   "id": "17884bd1",
   "metadata": {},
   "outputs": [
    {
     "data": {
      "image/png": "[encoded data removed]",
      "text/plain": [
       "<Figure size 864x360 with 1 Axes>"
      ]
     },
     "metadata": {
      "needs_background": "light"
     },
     "output_type": "display_data"
    }
   ],
   "source": [
    "test.plot(figsize=(12,5), legend=True, label='TrueValues');\n",
    "\n",
    "pred1.plot(legend=True, label='Preds AR1');"
   ]
  },
  {
   "cell_type": "markdown",
   "id": "39dcdcd2",
   "metadata": {},
   "source": [
    "so by only using one lag point, our preds are V BAD.\n",
    "\n",
    "general trend : captured\n",
    "but each value is predicted greater than the actual"
   ]
  },
  {
   "cell_type": "markdown",
   "id": "662f6412",
   "metadata": {},
   "source": [
    "so going from AR(1) -> AR(2)\n",
    "\n",
    "> you can use model1 only as both are created same, the difference happens during fitting, not definition."
   ]
  },
  {
   "cell_type": "code",
   "execution_count": 61,
   "id": "678c480c",
   "metadata": {},
   "outputs": [],
   "source": [
    "model2 = AR(train['PopEst'])   # no need"
   ]
  },
  {
   "cell_type": "code",
   "execution_count": 62,
   "id": "51667fbe",
   "metadata": {},
   "outputs": [
    {
     "data": {
      "text/plain": [
       "const        137.368305\n",
       "L1.PopEst      1.853490\n",
       "L2.PopEst     -0.853836\n",
       "dtype: float64"
      ]
     },
     "execution_count": 62,
     "metadata": {},
     "output_type": "execute_result"
    }
   ],
   "source": [
    "# as maxlag decides order use 2 here\n",
    "\n",
    "fit_m2 = model2.fit(maxlag=2)\n",
    "\n",
    "fit_m2.params"
   ]
  },
  {
   "cell_type": "code",
   "execution_count": 63,
   "id": "40b35c4f",
   "metadata": {},
   "outputs": [],
   "source": [
    "# predicting again\n",
    "\n",
    "pred2 = fit_m2.predict(start=start, end=end)"
   ]
  },
  {
   "cell_type": "code",
   "execution_count": 64,
   "id": "cb7e28d7",
   "metadata": {},
   "outputs": [
    {
     "data": {
      "text/plain": [
       "2018-01-01    326535.672503\n",
       "2018-02-01    326694.718510\n",
       "2018-03-01    326854.882250\n",
       "2018-04-01    327015.944948\n",
       "2018-05-01    327177.719499\n",
       "2018-06-01    327340.045896\n",
       "2018-07-01    327502.787331\n",
       "2018-08-01    327665.826847\n",
       "2018-09-01    327829.064480\n",
       "2018-10-01    327992.414809\n",
       "2018-11-01    328155.804859\n",
       "2018-12-01    328319.172308\n",
       "Freq: MS, dtype: float64"
      ]
     },
     "execution_count": 64,
     "metadata": {},
     "output_type": "execute_result"
    }
   ],
   "source": [
    "pred2"
   ]
  },
  {
   "cell_type": "code",
   "execution_count": 67,
   "id": "72d62101",
   "metadata": {},
   "outputs": [
    {
     "data": {
      "image/png": "[encoded data removed]",
      "text/plain": [
       "<Figure size 864x360 with 1 Axes>"
      ]
     },
     "metadata": {
      "needs_background": "light"
     },
     "output_type": "display_data"
    }
   ],
   "source": [
    "# plotting true vs pred1 vs pred2\n",
    "\n",
    "test.plot(figsize=(12,5), legend=True, label='TrueValues', ls='--');\n",
    "\n",
    "pred1.plot(legend=True, label='Preds AR1', color='green');\n",
    "\n",
    "pred2.plot(legend=True, label='Preds AR2', color='orange');"
   ]
  },
  {
   "cell_type": "markdown",
   "id": "d32555ee",
   "metadata": {},
   "source": [
    "AR(2) is a lot closer to true test values. so its performing BETTER."
   ]
  },
  {
   "cell_type": "markdown",
   "id": "9768d5b6",
   "metadata": {},
   "source": [
    "#### ques : how to figure out the best ORDER value for our AR?\n",
    "\n",
    "> let statsmodels choose 'p' for us.\n",
    "\n",
    "<i> p = order of AR = maxlag param of .fit() </i>"
   ]
  },
  {
   "cell_type": "code",
   "execution_count": 71,
   "id": "4c2ab966",
   "metadata": {},
   "outputs": [],
   "source": [
    "# automatic ordered model\n",
    "\n",
    "ARfit = model1.fit(ic='t-stat')\n",
    "\n",
    "# we're using t-stat as crieterion"
   ]
  },
  {
   "cell_type": "markdown",
   "id": "bb5b1d55",
   "metadata": {},
   "source": [
    "> so DONT DEFINE 'maxlag' value, leave it to None, then statsmodels will define it for us :))\n",
    "\n",
    "<i> set maxlag=None (default) to automatically select p"
   ]
  },
  {
   "cell_type": "markdown",
   "id": "320b17b9",
   "metadata": {},
   "source": [
    "\n",
    "\n",
    "<u>'ic' param of .fit() : </u>\n",
    "\n",
    "criterions for selecting OPTIMAL lag length ie maxlag\n",
    "\n",
    "values of ic :\n",
    "1. aic : akaike info criterion \n",
    "2. bic : bayes - -\n",
    "3. t-stat : based on last lag\n",
    "\n",
    "later we'll use RMS-error to determine which AR-order is the best fit to the testdata.\n",
    "\n",
    "each ic criterion is good for diff situations.\n",
    "\n",
    ">later, 'aic' will be used a lot to choose b/w diff ARIMA models"
   ]
  },
  {
   "cell_type": "code",
   "execution_count": 72,
   "id": "f9a87a14",
   "metadata": {},
   "outputs": [
    {
     "data": {
      "text/plain": [
       "const        82.309677\n",
       "L1.PopEst     2.437997\n",
       "L2.PopEst    -2.302100\n",
       "L3.PopEst     1.565427\n",
       "L4.PopEst    -1.431211\n",
       "L5.PopEst     1.125022\n",
       "L6.PopEst    -0.919494\n",
       "L7.PopEst     0.963694\n",
       "L8.PopEst    -0.439511\n",
       "dtype: float64"
      ]
     },
     "execution_count": 72,
     "metadata": {},
     "output_type": "execute_result"
    }
   ],
   "source": [
    "ARfit.params"
   ]
  },
  {
   "cell_type": "code",
   "execution_count": 74,
   "id": "0ad618dd",
   "metadata": {},
   "outputs": [
    {
     "data": {
      "text/plain": [
       "8"
      ]
     },
     "execution_count": 74,
     "metadata": {},
     "output_type": "execute_result"
    }
   ],
   "source": [
    "# WOAH MAN 8 IS THE CHOSEN AR(8) ORDER \n",
    "\n",
    "ARfit.k_ar"
   ]
  },
  {
   "cell_type": "code",
   "execution_count": 78,
   "id": "22fb9f9f",
   "metadata": {},
   "outputs": [
    {
     "data": {
      "text/plain": [
       "2018-01-01    326523.865559\n",
       "2018-02-01    326662.772568\n",
       "2018-03-01    326805.746870\n",
       "2018-04-01    326960.064201\n",
       "2018-05-01    327130.572901\n",
       "2018-06-01    327315.962732\n",
       "2018-07-01    327511.010032\n",
       "2018-08-01    327710.938277\n",
       "2018-09-01    327907.425445\n",
       "2018-10-01    328092.870664\n",
       "2018-11-01    328264.133551\n",
       "2018-12-01    328421.667095\n",
       "Freq: MS, dtype: float64"
      ]
     },
     "execution_count": 78,
     "metadata": {},
     "output_type": "execute_result"
    }
   ],
   "source": [
    "# predicting using this AR(8) automatically chosen model\n",
    "\n",
    "pred8 = ARfit.predict(start=start, end=end)\n",
    "\n",
    "pred8"
   ]
  },
  {
   "cell_type": "markdown",
   "id": "9fdb2592",
   "metadata": {},
   "source": [
    "Evaluating this final model using some <b>sklearn metric </b>"
   ]
  },
  {
   "cell_type": "code",
   "execution_count": 75,
   "id": "d89c991b",
   "metadata": {},
   "outputs": [],
   "source": [
    "from sklearn.metrics import mean_squared_error as mse"
   ]
  },
  {
   "cell_type": "code",
   "execution_count": 76,
   "id": "5ac94b11",
   "metadata": {},
   "outputs": [],
   "source": [
    "labels = ['AR1', 'AR2', 'AR8']"
   ]
  },
  {
   "cell_type": "code",
   "execution_count": 79,
   "id": "b2d858a1",
   "metadata": {},
   "outputs": [],
   "source": [
    "preds = [pred1, pred2, pred8]"
   ]
  },
  {
   "cell_type": "markdown",
   "id": "5f44a635",
   "metadata": {},
   "source": [
    "from the second graph it was clear that order 2 was performing quite well, lets see for order8\n",
    "\n",
    "##### computing Evaluating metric for each prediction-set \n",
    "\n",
    "(using a for loop)\n"
   ]
  },
  {
   "cell_type": "code",
   "execution_count": 82,
   "id": "32bef3a6",
   "metadata": {},
   "outputs": [
    {
     "name": "stdout",
     "output_type": "stream",
     "text": [
      "AR1 MSE was : 17449.714239577344\n",
      "AR2 MSE was : 2713.258615675103\n",
      "AR8 MSE was : 186.97058618962419\n"
     ]
    }
   ],
   "source": [
    "for i in range(3) :\n",
    "    error = mse(y_true = test['PopEst'], y_pred=preds[i])\n",
    "    print( f'{labels[i]} MSE was : {error}' )"
   ]
  },
  {
   "cell_type": "markdown",
   "id": "a2e5071d",
   "metadata": {},
   "source": [
    "AR8 MSE is the most optimal (lowest)"
   ]
  },
  {
   "cell_type": "code",
   "execution_count": 90,
   "id": "79b74c60",
   "metadata": {},
   "outputs": [
    {
     "data": {
      "text/plain": [
       "<matplotlib.axes._subplots.AxesSubplot at 0x181f57456a0>"
      ]
     },
     "execution_count": 90,
     "metadata": {},
     "output_type": "execute_result"
    },
    {
     "data": {
      "image/png": "[encoded data removed]",
      "text/plain": [
       "<Figure size 864x360 with 1 Axes>"
      ]
     },
     "metadata": {
      "needs_background": "light"
     },
     "output_type": "display_data"
    }
   ],
   "source": [
    "# plotting for a visual comparison\n",
    "\n",
    "# plotting true vs pred1 vs pred2 vs pred8\n",
    "\n",
    "test.plot(figsize=(12,5), legend=True, label='TrueValues', color='yellow');\n",
    "\n",
    "pred1.plot(legend=True, label='Preds AR1', color='green');\n",
    "\n",
    "pred2.plot(legend=True, label='Preds AR2', color='orange');\n",
    "\n",
    "pred8.plot(legend=True, label='Preds AR8', color='black', ls='-.')"
   ]
  },
  {
   "cell_type": "markdown",
   "id": "c8ee4e70",
   "metadata": {},
   "source": [
    "so AR(8) almost coincided w the True Values, which is quite impressive.\n",
    "\n",
    ">till now, we predicted test set values only, its time to look into the future"
   ]
  },
  {
   "cell_type": "markdown",
   "id": "84b708a4",
   "metadata": {},
   "source": [
    "# forecasting into the unknown future\n",
    "\n",
    "ie , predicting 2020 population (1 year into the future)\n",
    "\n",
    "> first re-train model on entire data (df) w/o splitting \n",
    "\n",
    "coz we're satisfied with AR8 fit and we wish to take it further\n",
    "\n",
    "but<br>\n",
    "but<br>\n",
    "dont specify maxlag=8 here, instead let statsmodels decide ki whats best as now we're using whole dataset, so best order might be diff than 8"
   ]
  },
  {
   "cell_type": "code",
   "execution_count": 95,
   "id": "d162ef3a",
   "metadata": {},
   "outputs": [],
   "source": [
    "# re-creating coz now we need the entire df, not just train daya\n",
    "\n",
    "final_model = AR(df['PopEst'])"
   ]
  },
  {
   "cell_type": "code",
   "execution_count": 102,
   "id": "7acdc184",
   "metadata": {},
   "outputs": [
    {
     "data": {
      "text/plain": [
       "12"
      ]
     },
     "execution_count": 102,
     "metadata": {},
     "output_type": "execute_result"
    }
   ],
   "source": [
    "final_fitted_model = final_model.fit(ic='t-stat')\n",
    "\n",
    "final_fitted_model.k_ar "
   ]
  },
  {
   "cell_type": "code",
   "execution_count": 99,
   "id": "ea409322",
   "metadata": {},
   "outputs": [],
   "source": [
    "# start at the end our df\n",
    "# forecast for 12 months post our last timestamp\n",
    "\n",
    "future_forecast = final_fitted_model.predict(start=len(df), end=len(df) + 12)"
   ]
  },
  {
   "cell_type": "code",
   "execution_count": 101,
   "id": "2e3a9024",
   "metadata": {},
   "outputs": [
    {
     "data": {
      "text/plain": [
       "2019-01-01    328537.420467\n",
       "2019-02-01    328673.215503\n",
       "2019-03-01    328810.443245\n",
       "2019-04-01    328957.592972\n",
       "2019-05-01    329117.335959\n",
       "2019-06-01    329289.277295\n",
       "2019-07-01    329470.144338\n",
       "2019-08-01    329655.073711\n",
       "2019-09-01    329839.483130\n",
       "2019-10-01    330015.435122\n",
       "2019-11-01    330175.676175\n",
       "2019-12-01    330322.580392\n",
       "2020-01-01    330459.617590\n",
       "Freq: MS, dtype: float64"
      ]
     },
     "execution_count": 101,
     "metadata": {},
     "output_type": "execute_result"
    }
   ],
   "source": [
    "future_forecast"
   ]
  },
  {
   "cell_type": "code",
   "execution_count": 104,
   "id": "7dc82649",
   "metadata": {},
   "outputs": [
    {
     "data": {
      "image/png": "[encoded data removed]",
      "text/plain": [
       "<Figure size 864x360 with 1 Axes>"
      ]
     },
     "metadata": {
      "needs_background": "light"
     },
     "output_type": "display_data"
    }
   ],
   "source": [
    "# Plotting original dataset with forecasted values\n",
    "\n",
    "df['PopEst'].plot(figsize=(12,5), legend=True, label='Original');\n",
    "\n",
    "future_forecast.plot(legend=True, label='Forecast');"
   ]
  },
  {
   "cell_type": "code",
   "execution_count": null,
   "id": "cdef6adb",
   "metadata": {},
   "outputs": [],
   "source": []
  }
 ],
 "metadata": {
  "kernelspec": {
   "display_name": "Python 3",
   "language": "python",
   "name": "python3"
  },
  "language_info": {
   "codemirror_mode": {
    "name": "ipython",
    "version": 3
   },
   "file_extension": ".py",
   "mimetype": "text/x-python",
   "name": "python",
   "nbconvert_exporter": "python",
   "pygments_lexer": "ipython3",
   "version": "3.7.2"
  }
 },
 "nbformat": 4,
 "nbformat_minor": 5
}
