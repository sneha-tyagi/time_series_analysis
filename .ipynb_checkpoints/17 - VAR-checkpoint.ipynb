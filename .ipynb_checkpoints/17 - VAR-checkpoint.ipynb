{
 "cells": [
  {
   "cell_type": "code",
   "execution_count": 1,
   "id": "cff86fd0",
   "metadata": {},
   "outputs": [],
   "source": [
    "import pandas as pd\n",
    "import numpy as np"
   ]
  },
  {
   "cell_type": "markdown",
   "id": "7a72d526",
   "metadata": {},
   "source": [
    "### we'll forecast 2 - TS that might be affecting each-other using VAR.\n",
    "\n",
    "> k = 2 as we're using 2 time series.\n",
    "\n",
    "1. M2 Money Stock >>>\n",
    "    how much money ppl have?\n",
    "    \n",
    "2. Personal Consumption from FRED >>>\n",
    "    how much money people spend ?\n",
    "\n",
    "> This is a 2-way interaction ie both affect each other, unlike exogenous var with a TV.\n",
    "\n",
    "\n",
    "how they affect one another?<br>\n",
    "if ppl spend more money they have less savings (2 affecting 1)<br>\n",
    "if ppl have more savings they would have been spending less. (1 affecting 2)<br>\n",
    "\n",
    "> USE 2-Dimensional VAR(p) model here. say :\n",
    "\n",
    "1. y_1,t = money stock\n",
    "2. y_2,t = personal consumption\n",
    "\n",
    "<br>\n",
    "\n",
    "<i> but what is 'p' ? </i><br>\n",
    "* find by checking various p-values in a for - loop using best AIC.\n",
    "* auto_arima grid search wont work\n",
    "\n",
    "<i> why AIC? </i> <br>\n",
    "* info criterion to compare multiple model fittings.\n",
    "* punishes models for being complex, even if AIC is slightly better\n",
    "\n",
    "> so as <B>p increases => AIC drops. then after certain lag (p's value) => AIC increases.</B> \n",
    "    THAT LAG IS OPTIMAL AIC.\n",
    "    \n",
    "<br>    \n",
    "also, we need to MANUALLY \n",
    "1. check for stationarity\n",
    "2. difference to make it stationary\n",
    "\n",
    "coz there's no I term that will automatically difference, as this is simple VAR model.\n",
    "\n",
    "\n",
    "> difference both series by same amount st THEY HAVE SAME NO. OF ROWS."
   ]
  },
  {
   "cell_type": "code",
   "execution_count": 15,
   "id": "db461489",
   "metadata": {},
   "outputs": [],
   "source": [
    "# warnings\n",
    "\n",
    "import warnings\n",
    "warnings.filterwarnings('ignore')\n",
    "\n",
    "\n",
    "# default figsize\n",
    "\n",
    "from matplotlib.pyplot import rcParams\n",
    "rcParams['figure.figsize'] = (12,6)"
   ]
  },
  {
   "cell_type": "code",
   "execution_count": 5,
   "id": "d99f0012",
   "metadata": {},
   "outputs": [],
   "source": [
    "# load datasets\n",
    "\n",
    "ms = pd.read_csv('Data/M2SLMoneyStock.csv', index_col=0, parse_dates=True)\n",
    "ms.index.freq='MS'\n",
    "\n",
    "ps = pd.read_csv('Data/PCEPersonalSpending.csv', index_col=0, parse_dates=True)\n",
    "ps.index.freq = 'MS'"
   ]
  },
  {
   "cell_type": "code",
   "execution_count": 6,
   "id": "0cc52b6b",
   "metadata": {},
   "outputs": [],
   "source": [
    "# loading specific forecasting tools\n",
    "\n",
    "from statsmodels.tsa.api import VAR\n",
    "\n",
    "from statsmodels.tsa.stattools import adfuller\n",
    "\n",
    "from statsmodels.tools.eval_measures import rmse"
   ]
  },
  {
   "cell_type": "code",
   "execution_count": 7,
   "id": "313e7618",
   "metadata": {},
   "outputs": [
    {
     "data": {
      "text/html": [
       "<div>\n",
       "<style scoped>\n",
       "    .dataframe tbody tr th:only-of-type {\n",
       "        vertical-align: middle;\n",
       "    }\n",
       "\n",
       "    .dataframe tbody tr th {\n",
       "        vertical-align: top;\n",
       "    }\n",
       "\n",
       "    .dataframe thead th {\n",
       "        text-align: right;\n",
       "    }\n",
       "</style>\n",
       "<table border=\"1\" class=\"dataframe\">\n",
       "  <thead>\n",
       "    <tr style=\"text-align: right;\">\n",
       "      <th></th>\n",
       "      <th>Money</th>\n",
       "    </tr>\n",
       "    <tr>\n",
       "      <th>Date</th>\n",
       "      <th></th>\n",
       "    </tr>\n",
       "  </thead>\n",
       "  <tbody>\n",
       "    <tr>\n",
       "      <th>1995-01-01</th>\n",
       "      <td>3492.4</td>\n",
       "    </tr>\n",
       "    <tr>\n",
       "      <th>1995-02-01</th>\n",
       "      <td>3489.9</td>\n",
       "    </tr>\n",
       "    <tr>\n",
       "      <th>1995-03-01</th>\n",
       "      <td>3491.1</td>\n",
       "    </tr>\n",
       "    <tr>\n",
       "      <th>1995-04-01</th>\n",
       "      <td>3499.2</td>\n",
       "    </tr>\n",
       "    <tr>\n",
       "      <th>1995-05-01</th>\n",
       "      <td>3524.2</td>\n",
       "    </tr>\n",
       "  </tbody>\n",
       "</table>\n",
       "</div>"
      ],
      "text/plain": [
       "             Money\n",
       "Date              \n",
       "1995-01-01  3492.4\n",
       "1995-02-01  3489.9\n",
       "1995-03-01  3491.1\n",
       "1995-04-01  3499.2\n",
       "1995-05-01  3524.2"
      ]
     },
     "execution_count": 7,
     "metadata": {},
     "output_type": "execute_result"
    }
   ],
   "source": [
    "ms.head()"
   ]
  },
  {
   "cell_type": "code",
   "execution_count": 8,
   "id": "7031c092",
   "metadata": {},
   "outputs": [
    {
     "data": {
      "text/html": [
       "<div>\n",
       "<style scoped>\n",
       "    .dataframe tbody tr th:only-of-type {\n",
       "        vertical-align: middle;\n",
       "    }\n",
       "\n",
       "    .dataframe tbody tr th {\n",
       "        vertical-align: top;\n",
       "    }\n",
       "\n",
       "    .dataframe thead th {\n",
       "        text-align: right;\n",
       "    }\n",
       "</style>\n",
       "<table border=\"1\" class=\"dataframe\">\n",
       "  <thead>\n",
       "    <tr style=\"text-align: right;\">\n",
       "      <th></th>\n",
       "      <th>Spending</th>\n",
       "    </tr>\n",
       "    <tr>\n",
       "      <th>Date</th>\n",
       "      <th></th>\n",
       "    </tr>\n",
       "  </thead>\n",
       "  <tbody>\n",
       "    <tr>\n",
       "      <th>1995-01-01</th>\n",
       "      <td>4851.2</td>\n",
       "    </tr>\n",
       "    <tr>\n",
       "      <th>1995-02-01</th>\n",
       "      <td>4850.8</td>\n",
       "    </tr>\n",
       "    <tr>\n",
       "      <th>1995-03-01</th>\n",
       "      <td>4885.4</td>\n",
       "    </tr>\n",
       "    <tr>\n",
       "      <th>1995-04-01</th>\n",
       "      <td>4890.2</td>\n",
       "    </tr>\n",
       "    <tr>\n",
       "      <th>1995-05-01</th>\n",
       "      <td>4933.1</td>\n",
       "    </tr>\n",
       "  </tbody>\n",
       "</table>\n",
       "</div>"
      ],
      "text/plain": [
       "            Spending\n",
       "Date                \n",
       "1995-01-01    4851.2\n",
       "1995-02-01    4850.8\n",
       "1995-03-01    4885.4\n",
       "1995-04-01    4890.2\n",
       "1995-05-01    4933.1"
      ]
     },
     "execution_count": 8,
     "metadata": {},
     "output_type": "execute_result"
    }
   ],
   "source": [
    "ps.head()"
   ]
  },
  {
   "cell_type": "code",
   "execution_count": 9,
   "id": "ed4f05c1",
   "metadata": {},
   "outputs": [],
   "source": [
    "# combining these into a single dataframe\n",
    "\n",
    "# use pd.merge() or df.join()\n",
    "\n",
    "df = ms.join(ps)"
   ]
  },
  {
   "cell_type": "code",
   "execution_count": 10,
   "id": "cd835e2b",
   "metadata": {},
   "outputs": [
    {
     "data": {
      "text/html": [
       "<div>\n",
       "<style scoped>\n",
       "    .dataframe tbody tr th:only-of-type {\n",
       "        vertical-align: middle;\n",
       "    }\n",
       "\n",
       "    .dataframe tbody tr th {\n",
       "        vertical-align: top;\n",
       "    }\n",
       "\n",
       "    .dataframe thead th {\n",
       "        text-align: right;\n",
       "    }\n",
       "</style>\n",
       "<table border=\"1\" class=\"dataframe\">\n",
       "  <thead>\n",
       "    <tr style=\"text-align: right;\">\n",
       "      <th></th>\n",
       "      <th>Money</th>\n",
       "      <th>Spending</th>\n",
       "    </tr>\n",
       "    <tr>\n",
       "      <th>Date</th>\n",
       "      <th></th>\n",
       "      <th></th>\n",
       "    </tr>\n",
       "  </thead>\n",
       "  <tbody>\n",
       "    <tr>\n",
       "      <th>1995-01-01</th>\n",
       "      <td>3492.4</td>\n",
       "      <td>4851.2</td>\n",
       "    </tr>\n",
       "    <tr>\n",
       "      <th>1995-02-01</th>\n",
       "      <td>3489.9</td>\n",
       "      <td>4850.8</td>\n",
       "    </tr>\n",
       "    <tr>\n",
       "      <th>1995-03-01</th>\n",
       "      <td>3491.1</td>\n",
       "      <td>4885.4</td>\n",
       "    </tr>\n",
       "    <tr>\n",
       "      <th>1995-04-01</th>\n",
       "      <td>3499.2</td>\n",
       "      <td>4890.2</td>\n",
       "    </tr>\n",
       "    <tr>\n",
       "      <th>1995-05-01</th>\n",
       "      <td>3524.2</td>\n",
       "      <td>4933.1</td>\n",
       "    </tr>\n",
       "  </tbody>\n",
       "</table>\n",
       "</div>"
      ],
      "text/plain": [
       "             Money  Spending\n",
       "Date                        \n",
       "1995-01-01  3492.4    4851.2\n",
       "1995-02-01  3489.9    4850.8\n",
       "1995-03-01  3491.1    4885.4\n",
       "1995-04-01  3499.2    4890.2\n",
       "1995-05-01  3524.2    4933.1"
      ]
     },
     "execution_count": 10,
     "metadata": {},
     "output_type": "execute_result"
    }
   ],
   "source": [
    "df.head()"
   ]
  },
  {
   "cell_type": "code",
   "execution_count": 12,
   "id": "8c14d78f",
   "metadata": {},
   "outputs": [],
   "source": [
    "# dropping any null rows\n",
    "\n",
    "df.dropna(axis=0, inplace=True)"
   ]
  },
  {
   "cell_type": "code",
   "execution_count": 14,
   "id": "65309a1e",
   "metadata": {},
   "outputs": [
    {
     "data": {
      "text/plain": [
       "(252, 2)"
      ]
     },
     "execution_count": 14,
     "metadata": {},
     "output_type": "execute_result"
    }
   ],
   "source": [
    "df.shape\n",
    "\n",
    "# 252 data values"
   ]
  },
  {
   "cell_type": "code",
   "execution_count": 17,
   "id": "35564045",
   "metadata": {},
   "outputs": [
    {
     "data": {
      "image/png": "[encoded data removed]",
      "text/plain": [
       "<Figure size 864x432 with 1 Axes>"
      ]
     },
     "metadata": {
      "needs_background": "light"
     },
     "output_type": "display_data"
    }
   ],
   "source": [
    "df.plot();"
   ]
  },
  {
   "cell_type": "markdown",
   "id": "4ab6d0dc",
   "metadata": {},
   "source": [
    "spending > money <BR>\n",
    "but for recent years they seem to CONVERGE."
   ]
  },
  {
   "cell_type": "markdown",
   "id": "6ea7d587",
   "metadata": {},
   "source": [
    "##### test for stationarity & necessary transformations\n",
    "\n",
    "by transformations it means diff() dataset"
   ]
  },
  {
   "cell_type": "code",
   "execution_count": 20,
   "id": "f37e3e86",
   "metadata": {},
   "outputs": [
    {
     "name": "stdout",
     "output_type": "stream",
     "text": [
      "Non Stationary\n"
     ]
    }
   ],
   "source": [
    "# ADF test  - h0 = non stationary series\n",
    "\n",
    "res1 = adfuller(df['Money'])\n",
    "\n",
    "if(res1[1] < 0.05):\n",
    "    print('Stationary')\n",
    "    \n",
    "else: \n",
    "    print('Non Stationary')"
   ]
  },
  {
   "cell_type": "code",
   "execution_count": 21,
   "id": "680a9229",
   "metadata": {},
   "outputs": [
    {
     "name": "stdout",
     "output_type": "stream",
     "text": [
      "Non Stationary\n"
     ]
    }
   ],
   "source": [
    "res2 = adfuller(df['Spending'])\n",
    "\n",
    "if(res1[1] < 0.05):\n",
    "    print('Stationary')\n",
    "    \n",
    "else: \n",
    "    print('Non Stationary')"
   ]
  },
  {
   "cell_type": "markdown",
   "id": "6295f388",
   "metadata": {},
   "source": [
    "> both the TS are non-stationary. so differencing is needed on both columns.\n",
    "\n",
    "we've been importing diff from statsmodels.\n",
    "\n",
    "but, \n",
    "\n",
    "> if you're dealing with an entire df, pandas has differencing 'method' for a dataframe."
   ]
  },
  {
   "cell_type": "code",
   "execution_count": 23,
   "id": "a9bdd812",
   "metadata": {},
   "outputs": [],
   "source": [
    "# 1st order diff of entire dataframe \n",
    "\n",
    "df_1 = df.diff()"
   ]
  },
  {
   "cell_type": "code",
   "execution_count": 24,
   "id": "33493d74",
   "metadata": {},
   "outputs": [
    {
     "data": {
      "text/html": [
       "<div>\n",
       "<style scoped>\n",
       "    .dataframe tbody tr th:only-of-type {\n",
       "        vertical-align: middle;\n",
       "    }\n",
       "\n",
       "    .dataframe tbody tr th {\n",
       "        vertical-align: top;\n",
       "    }\n",
       "\n",
       "    .dataframe thead th {\n",
       "        text-align: right;\n",
       "    }\n",
       "</style>\n",
       "<table border=\"1\" class=\"dataframe\">\n",
       "  <thead>\n",
       "    <tr style=\"text-align: right;\">\n",
       "      <th></th>\n",
       "      <th>Money</th>\n",
       "      <th>Spending</th>\n",
       "    </tr>\n",
       "    <tr>\n",
       "      <th>Date</th>\n",
       "      <th></th>\n",
       "      <th></th>\n",
       "    </tr>\n",
       "  </thead>\n",
       "  <tbody>\n",
       "    <tr>\n",
       "      <th>1995-01-01</th>\n",
       "      <td>NaN</td>\n",
       "      <td>NaN</td>\n",
       "    </tr>\n",
       "    <tr>\n",
       "      <th>1995-02-01</th>\n",
       "      <td>-2.5</td>\n",
       "      <td>-0.4</td>\n",
       "    </tr>\n",
       "    <tr>\n",
       "      <th>1995-03-01</th>\n",
       "      <td>1.2</td>\n",
       "      <td>34.6</td>\n",
       "    </tr>\n",
       "  </tbody>\n",
       "</table>\n",
       "</div>"
      ],
      "text/plain": [
       "            Money  Spending\n",
       "Date                       \n",
       "1995-01-01    NaN       NaN\n",
       "1995-02-01   -2.5      -0.4\n",
       "1995-03-01    1.2      34.6"
      ]
     },
     "execution_count": 24,
     "metadata": {},
     "output_type": "execute_result"
    }
   ],
   "source": [
    "df_1.head(3)"
   ]
  },
  {
   "cell_type": "code",
   "execution_count": 26,
   "id": "e6aeff58",
   "metadata": {},
   "outputs": [
    {
     "name": "stdout",
     "output_type": "stream",
     "text": [
      "Non Stationary\n"
     ]
    }
   ],
   "source": [
    "# re-running adftest on df_1 ie differneced dataframe\n",
    "\n",
    "res1 = adfuller(df_1['Money'].dropna(axis=0))\n",
    "\n",
    "if(res1[1] < 0.05):\n",
    "    print('Stationary')\n",
    "    \n",
    "else: \n",
    "    print('Non Stationary')"
   ]
  },
  {
   "cell_type": "code",
   "execution_count": 28,
   "id": "78fb8206",
   "metadata": {},
   "outputs": [
    {
     "name": "stdout",
     "output_type": "stream",
     "text": [
      "Stationary\n"
     ]
    }
   ],
   "source": [
    "res2 = adfuller(df_1['Spending'].dropna())\n",
    "\n",
    "if(res2[1] < 0.05):\n",
    "    print('Stationary')\n",
    "    \n",
    "else: \n",
    "    print('Non Stationary')"
   ]
  },
  {
   "cell_type": "markdown",
   "id": "f59c4a60",
   "metadata": {},
   "source": [
    "so 'Spending' has become stationary, but 'Money' is still Non-stationary.\n",
    "\n",
    "> APPLY 2ND ORDER TO DIFFERNECING to BOTH series. (Remember, equal no. of differencing has to be applied on both)\n",
    "\n",
    "coz we need to have same no. of available rows in both the series to apply VAR. hence diff() same no. of times.\n",
    "\n",
    "even if one of the series has become stationary already.\n",
    "\n",
    "> later, we'll undo this differencing (twice here)"
   ]
  },
  {
   "cell_type": "code",
   "execution_count": 29,
   "id": "0426ad39",
   "metadata": {},
   "outputs": [],
   "source": [
    "df_2 = df_1.diff()"
   ]
  },
  {
   "cell_type": "code",
   "execution_count": 31,
   "id": "b7f1f8b3",
   "metadata": {},
   "outputs": [
    {
     "data": {
      "text/html": [
       "<div>\n",
       "<style scoped>\n",
       "    .dataframe tbody tr th:only-of-type {\n",
       "        vertical-align: middle;\n",
       "    }\n",
       "\n",
       "    .dataframe tbody tr th {\n",
       "        vertical-align: top;\n",
       "    }\n",
       "\n",
       "    .dataframe thead th {\n",
       "        text-align: right;\n",
       "    }\n",
       "</style>\n",
       "<table border=\"1\" class=\"dataframe\">\n",
       "  <thead>\n",
       "    <tr style=\"text-align: right;\">\n",
       "      <th></th>\n",
       "      <th>Money</th>\n",
       "      <th>Spending</th>\n",
       "    </tr>\n",
       "    <tr>\n",
       "      <th>Date</th>\n",
       "      <th></th>\n",
       "      <th></th>\n",
       "    </tr>\n",
       "  </thead>\n",
       "  <tbody>\n",
       "    <tr>\n",
       "      <th>1995-01-01</th>\n",
       "      <td>NaN</td>\n",
       "      <td>NaN</td>\n",
       "    </tr>\n",
       "    <tr>\n",
       "      <th>1995-02-01</th>\n",
       "      <td>NaN</td>\n",
       "      <td>NaN</td>\n",
       "    </tr>\n",
       "    <tr>\n",
       "      <th>1995-03-01</th>\n",
       "      <td>3.7</td>\n",
       "      <td>35.0</td>\n",
       "    </tr>\n",
       "  </tbody>\n",
       "</table>\n",
       "</div>"
      ],
      "text/plain": [
       "            Money  Spending\n",
       "Date                       \n",
       "1995-01-01    NaN       NaN\n",
       "1995-02-01    NaN       NaN\n",
       "1995-03-01    3.7      35.0"
      ]
     },
     "execution_count": 31,
     "metadata": {},
     "output_type": "execute_result"
    }
   ],
   "source": [
    "df_2.head(3)"
   ]
  },
  {
   "cell_type": "code",
   "execution_count": 32,
   "id": "4fa33098",
   "metadata": {},
   "outputs": [
    {
     "name": "stdout",
     "output_type": "stream",
     "text": [
      "Stationary\n"
     ]
    }
   ],
   "source": [
    "# check if 'money' is stationary now\n",
    "\n",
    "res1 = adfuller(df_2['Money'].dropna())\n",
    "\n",
    "if(res1[1] < 0.05):\n",
    "    print('Stationary')\n",
    "    \n",
    "else: \n",
    "    print('Non Stationary')"
   ]
  },
  {
   "cell_type": "code",
   "execution_count": 33,
   "id": "81e1c661",
   "metadata": {},
   "outputs": [],
   "source": [
    "# YESSSSSSSSSSSSSSSSSSSSSSSSSSSSSS"
   ]
  },
  {
   "cell_type": "code",
   "execution_count": 34,
   "id": "1969b91f",
   "metadata": {},
   "outputs": [
    {
     "name": "stdout",
     "output_type": "stream",
     "text": [
      "Stationary\n"
     ]
    }
   ],
   "source": [
    "res1 = adfuller(df_2['Spending'].dropna())\n",
    "\n",
    "if(res1[1] < 0.05):\n",
    "    print('Stationary')\n",
    "    \n",
    "else: \n",
    "    print('Non Stationary')"
   ]
  },
  {
   "cell_type": "markdown",
   "id": "cd143b5b",
   "metadata": {},
   "source": [
    "both stationary now !!!!!!!!!!!!\n",
    "\n",
    "\n",
    "## TRAIN TEST SPLIT & EVALUATION"
   ]
  },
  {
   "cell_type": "code",
   "execution_count": 36,
   "id": "a397ef59",
   "metadata": {},
   "outputs": [],
   "source": [
    "# 12 months as test set to forecast 1 year into the future \n",
    "\n",
    "df_2.dropna(inplace=True)\n",
    "\n",
    "train = df_2[: -12]  # negative indexing -12 = 12th term from right\n",
    "\n",
    "test = df_2[-12 :]"
   ]
  },
  {
   "cell_type": "code",
   "execution_count": 37,
   "id": "e310b230",
   "metadata": {},
   "outputs": [
    {
     "data": {
      "text/plain": [
       "12"
      ]
     },
     "execution_count": 37,
     "metadata": {},
     "output_type": "execute_result"
    }
   ],
   "source": [
    "len(test)"
   ]
  },
  {
   "cell_type": "code",
   "execution_count": 38,
   "id": "6071bced",
   "metadata": {},
   "outputs": [
    {
     "data": {
      "text/plain": [
       "238"
      ]
     },
     "execution_count": 38,
     "metadata": {},
     "output_type": "execute_result"
    }
   ],
   "source": [
    "len(train)"
   ]
  },
  {
   "cell_type": "markdown",
   "id": "f8f81515",
   "metadata": {},
   "source": [
    "## order of VAR -> perform GRIDSEARCH \n",
    "\n",
    "(for AR-component of VAR-model)\n",
    "\n",
    "auto_arima doesnt work for this.\n",
    "\n",
    "> for seasonal data, use p upto 1 season. max p = seasonal period"
   ]
  },
  {
   "cell_type": "code",
   "execution_count": 69,
   "id": "079f4613",
   "metadata": {
    "scrolled": true
   },
   "outputs": [
    {
     "name": "stdout",
     "output_type": "stream",
     "text": [
      "order : 1\n",
      "AIC :  14.178610495220896\n",
      "\n",
      "\n",
      "order : 2\n",
      "AIC :  13.955189367163705\n",
      "\n",
      "\n",
      "order : 3\n",
      "AIC :  13.849518291541038\n",
      "\n",
      "\n",
      "order : 4\n",
      "AIC :  13.827950574458283\n",
      "\n",
      "\n",
      "order : 5\n",
      "AIC :  13.78730034460964\n",
      "\n",
      "\n",
      "order : 6\n",
      "AIC :  13.799076756885809\n",
      "\n",
      "\n",
      "order : 7\n",
      "AIC :  13.797638727913972\n",
      "\n",
      "\n"
     ]
    }
   ],
   "source": [
    "model = VAR(train)\n",
    "\n",
    "l = [1,2,3,4,5,6,7]   # list of some p-order values to test\n",
    "d = dict()\n",
    "\n",
    "for p in l:\n",
    "    \n",
    "    #for each p , fit model, calc AIC, print them\n",
    "    \n",
    "    results = model.fit(p)\n",
    "    \n",
    "    d[p] = results.aic   # a dictionary for each p & its aic\n",
    "    \n",
    "    mini = results.aic\n",
    "    \n",
    "    print('order :', p)\n",
    "    print('AIC : ', results.aic)\n",
    "    print('\\n')"
   ]
  },
  {
   "cell_type": "code",
   "execution_count": 70,
   "id": "096abfe9",
   "metadata": {},
   "outputs": [
    {
     "name": "stdout",
     "output_type": "stream",
     "text": [
      "13.78730034460964 = 5\n"
     ]
    }
   ],
   "source": [
    "for key in d:\n",
    "    if(d[key] < mini):\n",
    "        mini = d[key]\n",
    "        k = key\n",
    "        \n",
    "print(mini, k , sep=\" = \")"
   ]
  },
  {
   "cell_type": "markdown",
   "id": "e0378347",
   "metadata": {},
   "source": [
    "so AIC drops as we increase p, after p=5, it begins to increase. so p = 5 is our required optimal order."
   ]
  },
  {
   "cell_type": "code",
   "execution_count": 71,
   "id": "d3fd633c",
   "metadata": {},
   "outputs": [],
   "source": [
    "# fitting VAR with order 5\n",
    "\n",
    "final_results = model.fit(5)"
   ]
  },
  {
   "cell_type": "code",
   "execution_count": 72,
   "id": "f8ca9747",
   "metadata": {
    "scrolled": true
   },
   "outputs": [
    {
     "data": {
      "text/plain": [
       "  Summary of Regression Results   \n",
       "==================================\n",
       "Model:                         VAR\n",
       "Method:                        OLS\n",
       "Date:           Tue, 24, Aug, 2021\n",
       "Time:                     03:22:42\n",
       "--------------------------------------------------------------------\n",
       "No. of Equations:         2.00000    BIC:                    14.1131\n",
       "Nobs:                     233.000    HQIC:                   13.9187\n",
       "Log likelihood:          -2245.45    FPE:                    972321.\n",
       "AIC:                      13.7873    Det(Omega_mle):         886628.\n",
       "--------------------------------------------------------------------\n",
       "Results for equation Money\n",
       "==============================================================================\n",
       "                 coefficient       std. error           t-stat            prob\n",
       "------------------------------------------------------------------------------\n",
       "const               0.516683         1.782238            0.290           0.772\n",
       "L1.Money           -0.646232         0.068177           -9.479           0.000\n",
       "L1.Spending        -0.107411         0.051388           -2.090           0.037\n",
       "L2.Money           -0.497482         0.077749           -6.399           0.000\n",
       "L2.Spending        -0.192202         0.068613           -2.801           0.005\n",
       "L3.Money           -0.234442         0.081004           -2.894           0.004\n",
       "L3.Spending        -0.178099         0.074288           -2.397           0.017\n",
       "L4.Money           -0.295531         0.075294           -3.925           0.000\n",
       "L4.Spending        -0.035564         0.069664           -0.511           0.610\n",
       "L5.Money           -0.162399         0.066700           -2.435           0.015\n",
       "L5.Spending        -0.058449         0.051357           -1.138           0.255\n",
       "==============================================================================\n",
       "\n",
       "Results for equation Spending\n",
       "==============================================================================\n",
       "                 coefficient       std. error           t-stat            prob\n",
       "------------------------------------------------------------------------------\n",
       "const               0.203469         2.355446            0.086           0.931\n",
       "L1.Money            0.188105         0.090104            2.088           0.037\n",
       "L1.Spending        -0.878970         0.067916          -12.942           0.000\n",
       "L2.Money            0.053017         0.102755            0.516           0.606\n",
       "L2.Spending        -0.625313         0.090681           -6.896           0.000\n",
       "L3.Money           -0.022172         0.107057           -0.207           0.836\n",
       "L3.Spending        -0.389041         0.098180           -3.963           0.000\n",
       "L4.Money           -0.170456         0.099510           -1.713           0.087\n",
       "L4.Spending        -0.245435         0.092069           -2.666           0.008\n",
       "L5.Money           -0.083165         0.088153           -0.943           0.345\n",
       "L5.Spending        -0.181699         0.067874           -2.677           0.007\n",
       "==============================================================================\n",
       "\n",
       "Correlation matrix of residuals\n",
       "               Money  Spending\n",
       "Money       1.000000 -0.267934\n",
       "Spending   -0.267934  1.000000\n",
       "\n"
      ]
     },
     "execution_count": 72,
     "metadata": {},
     "output_type": "execute_result"
    }
   ],
   "source": [
    "final_results.summary()"
   ]
  },
  {
   "cell_type": "markdown",
   "id": "40416e89",
   "metadata": {},
   "source": [
    "\n",
    "in the output we've 2 time series (k=2). and equations and results for both the time series.\n",
    "\n"
   ]
  },
  {
   "cell_type": "markdown",
   "id": "5ff7c558",
   "metadata": {},
   "source": [
    "## forecasting next 12 values"
   ]
  },
  {
   "cell_type": "code",
   "execution_count": null,
   "id": "89b8716f",
   "metadata": {},
   "outputs": [],
   "source": []
  }
 ],
 "metadata": {
  "kernelspec": {
   "display_name": "Python 3",
   "language": "python",
   "name": "python3"
  },
  "language_info": {
   "codemirror_mode": {
    "name": "ipython",
    "version": 3
   },
   "file_extension": ".py",
   "mimetype": "text/x-python",
   "name": "python",
   "nbconvert_exporter": "python",
   "pygments_lexer": "ipython3",
   "version": "3.7.2"
  }
 },
 "nbformat": 4,
 "nbformat_minor": 5
}
